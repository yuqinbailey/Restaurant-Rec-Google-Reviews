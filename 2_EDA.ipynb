{
 "cells": [
  {
   "cell_type": "code",
   "execution_count": 14,
   "metadata": {},
   "outputs": [],
   "source": [
    "import pandas as pd\n",
    "import matplotlib.pyplot as plt\n",
    "import seaborn as sns"
   ]
  },
  {
   "cell_type": "code",
   "execution_count": 15,
   "metadata": {},
   "outputs": [
    {
     "data": {
      "text/html": [
       "<div>\n",
       "<style scoped>\n",
       "    .dataframe tbody tr th:only-of-type {\n",
       "        vertical-align: middle;\n",
       "    }\n",
       "\n",
       "    .dataframe tbody tr th {\n",
       "        vertical-align: top;\n",
       "    }\n",
       "\n",
       "    .dataframe thead th {\n",
       "        text-align: right;\n",
       "    }\n",
       "</style>\n",
       "<table border=\"1\" class=\"dataframe\">\n",
       "  <thead>\n",
       "    <tr style=\"text-align: right;\">\n",
       "      <th></th>\n",
       "      <th>rating</th>\n",
       "    </tr>\n",
       "  </thead>\n",
       "  <tbody>\n",
       "    <tr>\n",
       "      <th>count</th>\n",
       "      <td>1.487747e+06</td>\n",
       "    </tr>\n",
       "    <tr>\n",
       "      <th>mean</th>\n",
       "      <td>4.452340e+00</td>\n",
       "    </tr>\n",
       "    <tr>\n",
       "      <th>std</th>\n",
       "      <td>9.965227e-01</td>\n",
       "    </tr>\n",
       "    <tr>\n",
       "      <th>min</th>\n",
       "      <td>1.000000e+00</td>\n",
       "    </tr>\n",
       "    <tr>\n",
       "      <th>25%</th>\n",
       "      <td>4.000000e+00</td>\n",
       "    </tr>\n",
       "    <tr>\n",
       "      <th>50%</th>\n",
       "      <td>5.000000e+00</td>\n",
       "    </tr>\n",
       "    <tr>\n",
       "      <th>75%</th>\n",
       "      <td>5.000000e+00</td>\n",
       "    </tr>\n",
       "    <tr>\n",
       "      <th>max</th>\n",
       "      <td>5.000000e+00</td>\n",
       "    </tr>\n",
       "  </tbody>\n",
       "</table>\n",
       "</div>"
      ],
      "text/plain": [
       "             rating\n",
       "count  1.487747e+06\n",
       "mean   4.452340e+00\n",
       "std    9.965227e-01\n",
       "min    1.000000e+00\n",
       "25%    4.000000e+00\n",
       "50%    5.000000e+00\n",
       "75%    5.000000e+00\n",
       "max    5.000000e+00"
      ]
     },
     "execution_count": 15,
     "metadata": {},
     "output_type": "execute_result"
    }
   ],
   "source": [
    "df_all = pd.read_csv('data_all.csv')\n",
    "df_all.describe()"
   ]
  },
  {
   "cell_type": "code",
   "execution_count": null,
   "metadata": {},
   "outputs": [
    {
     "data": {
      "text/plain": [
       "868937"
      ]
     },
     "metadata": {},
     "output_type": "display_data"
    }
   ],
   "source": [
    "df_all.user_id.nunique()"
   ]
  },
  {
   "cell_type": "code",
   "execution_count": 17,
   "metadata": {},
   "outputs": [
    {
     "data": {
      "image/png": "[encoded data removed]",
      "text/plain": [
       "<Figure size 800x600 with 1 Axes>"
      ]
     },
     "metadata": {},
     "output_type": "display_data"
    }
   ],
   "source": [
    "# Visualize Rating Distribution\n",
    "plt.figure(figsize=(8, 6))\n",
    "sns.countplot(x='rating', data=df_all)\n",
    "plt.title('Rating Distribution')\n",
    "plt.xlabel('Rating')\n",
    "plt.ylabel('Count')\n",
    "plt.show()"
   ]
  },
  {
   "cell_type": "markdown",
   "metadata": {},
   "source": [
    "## Metadata"
   ]
  },
  {
   "cell_type": "code",
   "execution_count": 19,
   "metadata": {},
   "outputs": [],
   "source": [
    "metadata_ma = pd.read_json('meta-Massachusetts.json', lines=True)\n"
   ]
  },
  {
   "cell_type": "code",
   "execution_count": 21,
   "metadata": {},
   "outputs": [
    {
     "data": {
      "text/html": [
       "<div>\n",
       "<style scoped>\n",
       "    .dataframe tbody tr th:only-of-type {\n",
       "        vertical-align: middle;\n",
       "    }\n",
       "\n",
       "    .dataframe tbody tr th {\n",
       "        vertical-align: top;\n",
       "    }\n",
       "\n",
       "    .dataframe thead th {\n",
       "        text-align: right;\n",
       "    }\n",
       "</style>\n",
       "<table border=\"1\" class=\"dataframe\">\n",
       "  <thead>\n",
       "    <tr style=\"text-align: right;\">\n",
       "      <th></th>\n",
       "      <th>name</th>\n",
       "      <th>address</th>\n",
       "      <th>gmap_id</th>\n",
       "      <th>description</th>\n",
       "      <th>latitude</th>\n",
       "      <th>longitude</th>\n",
       "      <th>category</th>\n",
       "      <th>avg_rating</th>\n",
       "      <th>num_of_reviews</th>\n",
       "      <th>price</th>\n",
       "      <th>hours</th>\n",
       "      <th>MISC</th>\n",
       "      <th>state</th>\n",
       "      <th>relative_results</th>\n",
       "      <th>url</th>\n",
       "    </tr>\n",
       "  </thead>\n",
       "  <tbody>\n",
       "    <tr>\n",
       "      <th>0</th>\n",
       "      <td>Grace Ryder Housing Center</td>\n",
       "      <td>Grace Ryder Housing Center, Marshfield, MA 02050</td>\n",
       "      <td>0x89e4a1f2d39fb621:0xfe62e9b7266e6262</td>\n",
       "      <td>None</td>\n",
       "      <td>42.098673</td>\n",
       "      <td>-70.719751</td>\n",
       "      <td>[Senior citizen center]</td>\n",
       "      <td>4.8</td>\n",
       "      <td>3</td>\n",
       "      <td>None</td>\n",
       "      <td>None</td>\n",
       "      <td>{'Accessibility': ['Wheelchair accessible entr...</td>\n",
       "      <td>None</td>\n",
       "      <td>[0x89e4a6ce94008f83:0x48244c8afd7f8d76, 0x89e4...</td>\n",
       "      <td>https://www.google.com/maps/place//data=!4m2!3...</td>\n",
       "    </tr>\n",
       "    <tr>\n",
       "      <th>1</th>\n",
       "      <td>Sowing Seeds</td>\n",
       "      <td>Sowing Seeds, 974 Plain St, Marshfield, MA 02050</td>\n",
       "      <td>0x89e4a103dd188585:0xfadc47938337579f</td>\n",
       "      <td>None</td>\n",
       "      <td>42.107184</td>\n",
       "      <td>-70.757536</td>\n",
       "      <td>[Non-profit organization]</td>\n",
       "      <td>4.6</td>\n",
       "      <td>8</td>\n",
       "      <td>None</td>\n",
       "      <td>None</td>\n",
       "      <td>{'Accessibility': ['Wheelchair accessible entr...</td>\n",
       "      <td>None</td>\n",
       "      <td>[0x89e4a6d00319316d:0x5d22d9b17e568648, 0x89e4...</td>\n",
       "      <td>https://www.google.com/maps/place//data=!4m2!3...</td>\n",
       "    </tr>\n",
       "    <tr>\n",
       "      <th>2</th>\n",
       "      <td>TLC Kennels</td>\n",
       "      <td>TLC Kennels, 729 Center St, Pembroke, MA 02359</td>\n",
       "      <td>0x89e49871023b3407:0xd93aabe6f7940a6b</td>\n",
       "      <td>None</td>\n",
       "      <td>42.032471</td>\n",
       "      <td>-70.820770</td>\n",
       "      <td>[Kennel]</td>\n",
       "      <td>4.0</td>\n",
       "      <td>4</td>\n",
       "      <td>None</td>\n",
       "      <td>None</td>\n",
       "      <td>None</td>\n",
       "      <td>None</td>\n",
       "      <td>[0x89e4a1c4b9d12e9b:0xc13185ea1dbed01a, 0x89e4...</td>\n",
       "      <td>https://www.google.com/maps/place//data=!4m2!3...</td>\n",
       "    </tr>\n",
       "    <tr>\n",
       "      <th>3</th>\n",
       "      <td>Pine Hill Sand &amp; Gravel</td>\n",
       "      <td>Pine Hill Sand &amp; Gravel, 498 Old Westport Rd, ...</td>\n",
       "      <td>0x89e4fcdcfa2fdba5:0xb10b326e00a0fd0</td>\n",
       "      <td>None</td>\n",
       "      <td>41.626680</td>\n",
       "      <td>-71.022437</td>\n",
       "      <td>[Sand &amp; gravel supplier]</td>\n",
       "      <td>5.0</td>\n",
       "      <td>2</td>\n",
       "      <td>None</td>\n",
       "      <td>None</td>\n",
       "      <td>None</td>\n",
       "      <td>None</td>\n",
       "      <td>[0x89e4fd3555b4674f:0x6d70e26b40185165, 0x89e4...</td>\n",
       "      <td>https://www.google.com/maps/place//data=!4m2!3...</td>\n",
       "    </tr>\n",
       "    <tr>\n",
       "      <th>4</th>\n",
       "      <td>Workout Club</td>\n",
       "      <td>Workout Club, Webster Square, Marshfield, MA 0...</td>\n",
       "      <td>0x89e4a6c554aa0e59:0x45965ec598f57a3</td>\n",
       "      <td>None</td>\n",
       "      <td>42.089767</td>\n",
       "      <td>-70.708462</td>\n",
       "      <td>[Gym]</td>\n",
       "      <td>4.5</td>\n",
       "      <td>4</td>\n",
       "      <td>None</td>\n",
       "      <td>[[Thursday, 5:30AM–1PM], [Friday, 5:30AM–1PM],...</td>\n",
       "      <td>{'Accessibility': ['Wheelchair accessible entr...</td>\n",
       "      <td>Closes soon ⋅ 1PM ⋅ Reopens 4PM</td>\n",
       "      <td>[0x89e4a6d001adbf99:0xdeb84714d054a18c, 0x89e4...</td>\n",
       "      <td>https://www.google.com/maps/place//data=!4m2!3...</td>\n",
       "    </tr>\n",
       "  </tbody>\n",
       "</table>\n",
       "</div>"
      ],
      "text/plain": [
       "                         name  \\\n",
       "0  Grace Ryder Housing Center   \n",
       "1                Sowing Seeds   \n",
       "2                 TLC Kennels   \n",
       "3     Pine Hill Sand & Gravel   \n",
       "4                Workout Club   \n",
       "\n",
       "                                             address  \\\n",
       "0   Grace Ryder Housing Center, Marshfield, MA 02050   \n",
       "1   Sowing Seeds, 974 Plain St, Marshfield, MA 02050   \n",
       "2     TLC Kennels, 729 Center St, Pembroke, MA 02359   \n",
       "3  Pine Hill Sand & Gravel, 498 Old Westport Rd, ...   \n",
       "4  Workout Club, Webster Square, Marshfield, MA 0...   \n",
       "\n",
       "                                 gmap_id description   latitude  longitude  \\\n",
       "0  0x89e4a1f2d39fb621:0xfe62e9b7266e6262        None  42.098673 -70.719751   \n",
       "1  0x89e4a103dd188585:0xfadc47938337579f        None  42.107184 -70.757536   \n",
       "2  0x89e49871023b3407:0xd93aabe6f7940a6b        None  42.032471 -70.820770   \n",
       "3   0x89e4fcdcfa2fdba5:0xb10b326e00a0fd0        None  41.626680 -71.022437   \n",
       "4   0x89e4a6c554aa0e59:0x45965ec598f57a3        None  42.089767 -70.708462   \n",
       "\n",
       "                    category  avg_rating  num_of_reviews price  \\\n",
       "0    [Senior citizen center]         4.8               3  None   \n",
       "1  [Non-profit organization]         4.6               8  None   \n",
       "2                   [Kennel]         4.0               4  None   \n",
       "3   [Sand & gravel supplier]         5.0               2  None   \n",
       "4                      [Gym]         4.5               4  None   \n",
       "\n",
       "                                               hours  \\\n",
       "0                                               None   \n",
       "1                                               None   \n",
       "2                                               None   \n",
       "3                                               None   \n",
       "4  [[Thursday, 5:30AM–1PM], [Friday, 5:30AM–1PM],...   \n",
       "\n",
       "                                                MISC  \\\n",
       "0  {'Accessibility': ['Wheelchair accessible entr...   \n",
       "1  {'Accessibility': ['Wheelchair accessible entr...   \n",
       "2                                               None   \n",
       "3                                               None   \n",
       "4  {'Accessibility': ['Wheelchair accessible entr...   \n",
       "\n",
       "                             state  \\\n",
       "0                             None   \n",
       "1                             None   \n",
       "2                             None   \n",
       "3                             None   \n",
       "4  Closes soon ⋅ 1PM ⋅ Reopens 4PM   \n",
       "\n",
       "                                    relative_results  \\\n",
       "0  [0x89e4a6ce94008f83:0x48244c8afd7f8d76, 0x89e4...   \n",
       "1  [0x89e4a6d00319316d:0x5d22d9b17e568648, 0x89e4...   \n",
       "2  [0x89e4a1c4b9d12e9b:0xc13185ea1dbed01a, 0x89e4...   \n",
       "3  [0x89e4fd3555b4674f:0x6d70e26b40185165, 0x89e4...   \n",
       "4  [0x89e4a6d001adbf99:0xdeb84714d054a18c, 0x89e4...   \n",
       "\n",
       "                                                 url  \n",
       "0  https://www.google.com/maps/place//data=!4m2!3...  \n",
       "1  https://www.google.com/maps/place//data=!4m2!3...  \n",
       "2  https://www.google.com/maps/place//data=!4m2!3...  \n",
       "3  https://www.google.com/maps/place//data=!4m2!3...  \n",
       "4  https://www.google.com/maps/place//data=!4m2!3...  "
      ]
     },
     "execution_count": 21,
     "metadata": {},
     "output_type": "execute_result"
    }
   ],
   "source": [
    "metadata_ma.head()"
   ]
  },
  {
   "cell_type": "code",
   "execution_count": 28,
   "metadata": {},
   "outputs": [
    {
     "data": {
      "text/plain": [
       "count    92520.000000\n",
       "mean         4.314888\n",
       "std          0.618141\n",
       "min          1.000000\n",
       "25%          4.100000\n",
       "50%          4.400000\n",
       "75%          4.700000\n",
       "max          5.000000\n",
       "Name: avg_rating, dtype: float64"
      ]
     },
     "execution_count": 28,
     "metadata": {},
     "output_type": "execute_result"
    }
   ],
   "source": [
    "metadata_ma.avg_rating.describe()"
   ]
  },
  {
   "cell_type": "code",
   "execution_count": 32,
   "metadata": {},
   "outputs": [
    {
     "data": {
      "image/png": "[encoded data removed]",
      "text/plain": [
       "<Figure size 800x600 with 1 Axes>"
      ]
     },
     "metadata": {},
     "output_type": "display_data"
    }
   ],
   "source": [
    "# Visualize Business Category\n",
    "plt.figure(figsize=(8, 6))\n",
    "sns.countplot(x='avg_rating', data=metadata_ma)\n",
    "plt.title('Avg Rating Distribution of MA')\n",
    "plt.xlabel('Avg Rating')\n",
    "plt.ylabel('Count')\n",
    "plt.xticks(rotation=90)\n",
    "plt.show()"
   ]
  },
  {
   "cell_type": "code",
   "execution_count": 27,
   "metadata": {},
   "outputs": [
    {
     "data": {
      "text/plain": [
       "count    92520.000000\n",
       "mean       112.916202\n",
       "std        297.091231\n",
       "min          1.000000\n",
       "25%          8.000000\n",
       "50%         28.000000\n",
       "75%         98.000000\n",
       "max       9998.000000\n",
       "Name: num_of_reviews, dtype: float64"
      ]
     },
     "execution_count": 27,
     "metadata": {},
     "output_type": "execute_result"
    }
   ],
   "source": [
    "metadata_ma.num_of_reviews.describe()"
   ]
  },
  {
   "cell_type": "code",
   "execution_count": 26,
   "metadata": {},
   "outputs": [
    {
     "data": {
      "image/png": "[encoded data removed]",
      "text/plain": [
       "<Figure size 1200x600 with 1 Axes>"
      ]
     },
     "metadata": {},
     "output_type": "display_data"
    }
   ],
   "source": [
    "# Visualize Business Category\n",
    "plt.figure(figsize=(12, 6))\n",
    "sns.countplot(x='num_of_reviews', data=metadata_ma)\n",
    "plt.title('#Reviews Distribution of MA')\n",
    "plt.xlabel('Num of Reviews')\n",
    "plt.ylabel('Count')\n",
    "# plt.xticks(rotation=90)\n",
    "plt.show()"
   ]
  },
  {
   "cell_type": "code",
   "execution_count": null,
   "metadata": {},
   "outputs": [],
   "source": []
  }
 ],
 "metadata": {
  "kernelspec": {
   "display_name": "cs109b",
   "language": "python",
   "name": "python3"
  },
  "language_info": {
   "codemirror_mode": {
    "name": "ipython",
    "version": 3
   },
   "file_extension": ".py",
   "mimetype": "text/x-python",
   "name": "python",
   "nbconvert_exporter": "python",
   "pygments_lexer": "ipython3",
   "version": "3.11.7"
  }
 },
 "nbformat": 4,
 "nbformat_minor": 2
}
