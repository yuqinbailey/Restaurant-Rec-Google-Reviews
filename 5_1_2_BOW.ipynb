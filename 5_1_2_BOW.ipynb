{
 "cells": [
  {
   "cell_type": "code",
   "execution_count": 1,
   "metadata": {},
   "outputs": [],
   "source": [
    "import pandas as pd\n",
    "import torch\n",
    "import numpy as np"
   ]
  },
  {
   "cell_type": "markdown",
   "metadata": {},
   "source": [
    "**Data:** `df_cleaned`\n",
    "* English\n",
    "* emoji removed\n",
    "* 10-core\n",
    "* No duplicates\n",
    "Count: 179,590"
   ]
  },
  {
   "cell_type": "code",
   "execution_count": 2,
   "metadata": {},
   "outputs": [],
   "source": [
    "df_cleaned = pd.read_csv(\"data/df_cleaned_w_na.csv\")\n",
    "df_cleaned.drop_duplicates(inplace=True)"
   ]
  },
  {
   "cell_type": "code",
   "execution_count": 3,
   "metadata": {},
   "outputs": [],
   "source": [
    "from sklearn.feature_extraction.text import CountVectorizer\n",
    "\n",
    "# create the vocabulary, remove stop words\n",
    "vectorizer = CountVectorizer(stop_words='english')\n",
    "\n",
    "# fit the vocabulary to the text data and create the bag-of-words model\n",
    "bow_model = vectorizer.fit_transform(df_cleaned[\"text\"])\n",
    "\n",
    "bow_df = pd.DataFrame(bow_model.toarray(), columns=vectorizer.get_feature_names_out())"
   ]
  },
  {
   "cell_type": "code",
   "execution_count": 4,
   "metadata": {},
   "outputs": [
    {
     "data": {
      "text/plain": [
       "(179590, 46650)"
      ]
     },
     "execution_count": 4,
     "metadata": {},
     "output_type": "execute_result"
    }
   ],
   "source": [
    "bow_df.shape # (179590, 46650)\n",
    "# # print the vocabulary\n",
    "# print(vectorizer.vocabulary_)"
   ]
  },
  {
   "cell_type": "code",
   "execution_count": 5,
   "metadata": {},
   "outputs": [],
   "source": [
    "# create the bigrams vocabulary, remove stop words\n",
    "vectorizer_bi = CountVectorizer(stop_words='english', ngram_range=(2,2))\n",
    "\n",
    "# fit the vocabulary to the text data and create the bag-of-words model\n",
    "bow_model_bi = vectorizer_bi.fit_transform(df_cleaned[\"text\"])\n",
    "\n",
    "bow_df_bi = pd.DataFrame(bow_model_bi.toarray(), columns=vectorizer_bi.get_feature_names_out())"
   ]
  },
  {
   "cell_type": "code",
   "execution_count": 6,
   "metadata": {},
   "outputs": [
    {
     "data": {
      "text/plain": [
       "(179590, 899651)"
      ]
     },
     "execution_count": 6,
     "metadata": {},
     "output_type": "execute_result"
    }
   ],
   "source": [
    "bow_df_bi.shape"
   ]
  },
  {
   "cell_type": "code",
   "execution_count": 8,
   "metadata": {},
   "outputs": [],
   "source": [
    "bow_df.to_csv(\"data/BOW_unigram.csv\", index=False)"
   ]
  }
 ],
 "metadata": {
  "kernelspec": {
   "display_name": "cs109b",
   "language": "python",
   "name": "python3"
  },
  "language_info": {
   "codemirror_mode": {
    "name": "ipython",
    "version": 3
   },
   "file_extension": ".py",
   "mimetype": "text/x-python",
   "name": "python",
   "nbconvert_exporter": "python",
   "pygments_lexer": "ipython3",
   "version": "3.11.0"
  }
 },
 "nbformat": 4,
 "nbformat_minor": 2
}
