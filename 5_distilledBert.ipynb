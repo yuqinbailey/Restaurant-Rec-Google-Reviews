{
 "cells": [
  {
   "cell_type": "code",
   "execution_count": 1,
   "metadata": {
    "id": "wf1PL1bAnJ2Y"
   },
   "outputs": [],
   "source": [
    "import json\n",
    "import pandas as pd\n",
    "import matplotlib.pyplot as plt\n",
    "import seaborn as sns\n",
    "from sklearn.model_selection import train_test_split\n",
    "import re\n"
   ]
  },
  {
   "cell_type": "markdown",
   "metadata": {
    "id": "pMX6MKJDykU7"
   },
   "source": [
    "## Finetune DistilledBert "
   ]
  },
  {
   "cell_type": "code",
   "execution_count": 56,
   "metadata": {
    "colab": {
     "base_uri": "https://localhost:8080/",
     "height": 261
    },
    "id": "7wqIKQFEysD6",
    "outputId": "a5fb6ce8-a71d-49d7-9a44-e074765303d2"
   },
   "outputs": [
    {
     "data": {
      "text/html": [
       "<div>\n",
       "<style scoped>\n",
       "    .dataframe tbody tr th:only-of-type {\n",
       "        vertical-align: middle;\n",
       "    }\n",
       "\n",
       "    .dataframe tbody tr th {\n",
       "        vertical-align: top;\n",
       "    }\n",
       "\n",
       "    .dataframe thead th {\n",
       "        text-align: right;\n",
       "    }\n",
       "</style>\n",
       "<table border=\"1\" class=\"dataframe\">\n",
       "  <thead>\n",
       "    <tr style=\"text-align: right;\">\n",
       "      <th></th>\n",
       "      <th>user_id</th>\n",
       "      <th>text</th>\n",
       "    </tr>\n",
       "  </thead>\n",
       "  <tbody>\n",
       "    <tr>\n",
       "      <th>0</th>\n",
       "      <td>1.000018e+20</td>\n",
       "      <td>Great food. The service was a little slow. It ...</td>\n",
       "    </tr>\n",
       "    <tr>\n",
       "      <th>1</th>\n",
       "      <td>1.000020e+20</td>\n",
       "      <td>I like the variety of burgers they offer. But ...</td>\n",
       "    </tr>\n",
       "    <tr>\n",
       "      <th>2</th>\n",
       "      <td>1.000027e+20</td>\n",
       "      <td>Margarita was yummy. Food not great.\\nCrazy No...</td>\n",
       "    </tr>\n",
       "    <tr>\n",
       "      <th>3</th>\n",
       "      <td>1.000030e+20</td>\n",
       "      <td>Very good food a little pricey but worth every...</td>\n",
       "    </tr>\n",
       "    <tr>\n",
       "      <th>4</th>\n",
       "      <td>1.000057e+20</td>\n",
       "      <td>Delightful and charming place to dine outside....</td>\n",
       "    </tr>\n",
       "  </tbody>\n",
       "</table>\n",
       "</div>"
      ],
      "text/plain": [
       "        user_id                                               text\n",
       "0  1.000018e+20  Great food. The service was a little slow. It ...\n",
       "1  1.000020e+20  I like the variety of burgers they offer. But ...\n",
       "2  1.000027e+20  Margarita was yummy. Food not great.\\nCrazy No...\n",
       "3  1.000030e+20  Very good food a little pricey but worth every...\n",
       "4  1.000057e+20  Delightful and charming place to dine outside...."
      ]
     },
     "execution_count": 56,
     "metadata": {},
     "output_type": "execute_result"
    }
   ],
   "source": [
    "user_df = pd.read_csv('data/user_concat_text_10_20.csv',sep=';')\n",
    "user_df.head()"
   ]
  },
  {
   "cell_type": "code",
   "execution_count": 57,
   "metadata": {},
   "outputs": [
    {
     "data": {
      "text/html": [
       "<div>\n",
       "<style scoped>\n",
       "    .dataframe tbody tr th:only-of-type {\n",
       "        vertical-align: middle;\n",
       "    }\n",
       "\n",
       "    .dataframe tbody tr th {\n",
       "        vertical-align: top;\n",
       "    }\n",
       "\n",
       "    .dataframe thead th {\n",
       "        text-align: right;\n",
       "    }\n",
       "</style>\n",
       "<table border=\"1\" class=\"dataframe\">\n",
       "  <thead>\n",
       "    <tr style=\"text-align: right;\">\n",
       "      <th></th>\n",
       "      <th>user_id</th>\n",
       "      <th>gmap_id</th>\n",
       "      <th>text</th>\n",
       "      <th>rating</th>\n",
       "    </tr>\n",
       "  </thead>\n",
       "  <tbody>\n",
       "    <tr>\n",
       "      <th>0</th>\n",
       "      <td>1.117182e+20</td>\n",
       "      <td>0x89e3f6144d96a7f1:0x78577cee81076e28</td>\n",
       "      <td>Excellent breakfast. Very good coffee. Homemad...</td>\n",
       "      <td>5</td>\n",
       "    </tr>\n",
       "    <tr>\n",
       "      <th>1</th>\n",
       "      <td>1.105225e+20</td>\n",
       "      <td>0x89e3f6144d96a7f1:0x78577cee81076e28</td>\n",
       "      <td>Great neighborhood diner. Great food. Wonderfu...</td>\n",
       "      <td>5</td>\n",
       "    </tr>\n",
       "    <tr>\n",
       "      <th>2</th>\n",
       "      <td>1.091366e+20</td>\n",
       "      <td>0x89e3f6144d96a7f1:0x78577cee81076e28</td>\n",
       "      <td>Fantastic food has great prices. Great atmosph...</td>\n",
       "      <td>5</td>\n",
       "    </tr>\n",
       "    <tr>\n",
       "      <th>3</th>\n",
       "      <td>1.045746e+20</td>\n",
       "      <td>0x89e3f6144d96a7f1:0x78577cee81076e28</td>\n",
       "      <td>Old fashion Dinner. Love this place</td>\n",
       "      <td>5</td>\n",
       "    </tr>\n",
       "    <tr>\n",
       "      <th>4</th>\n",
       "      <td>1.075780e+20</td>\n",
       "      <td>0x89e3f6144d96a7f1:0x78577cee81076e28</td>\n",
       "      <td>Bland food. Although the employees were really...</td>\n",
       "      <td>2</td>\n",
       "    </tr>\n",
       "    <tr>\n",
       "      <th>...</th>\n",
       "      <td>...</td>\n",
       "      <td>...</td>\n",
       "      <td>...</td>\n",
       "      <td>...</td>\n",
       "    </tr>\n",
       "    <tr>\n",
       "      <th>55372</th>\n",
       "      <td>1.124470e+20</td>\n",
       "      <td>0x89e3a43f66fccc79:0x4058e86c35f55c61</td>\n",
       "      <td>Great food and beer selection. Has a very diff...</td>\n",
       "      <td>5</td>\n",
       "    </tr>\n",
       "    <tr>\n",
       "      <th>55373</th>\n",
       "      <td>1.169013e+20</td>\n",
       "      <td>0x89e3a43f66fccc79:0x4058e86c35f55c61</td>\n",
       "      <td>I ate here with my two sons and their grandpar...</td>\n",
       "      <td>5</td>\n",
       "    </tr>\n",
       "    <tr>\n",
       "      <th>55374</th>\n",
       "      <td>1.090290e+20</td>\n",
       "      <td>0x89e3a43f66fccc79:0x4058e86c35f55c61</td>\n",
       "      <td>Great atmosphere and very good food. The pizza...</td>\n",
       "      <td>4</td>\n",
       "    </tr>\n",
       "    <tr>\n",
       "      <th>55375</th>\n",
       "      <td>1.138475e+20</td>\n",
       "      <td>0x89e3a43f66fccc79:0x4058e86c35f55c61</td>\n",
       "      <td>Love this place. Food is always great, pizza i...</td>\n",
       "      <td>5</td>\n",
       "    </tr>\n",
       "    <tr>\n",
       "      <th>55376</th>\n",
       "      <td>1.088056e+20</td>\n",
       "      <td>0x89e3a43f66fccc79:0x4058e86c35f55c61</td>\n",
       "      <td>Was the start of a very good night in Lowell f...</td>\n",
       "      <td>5</td>\n",
       "    </tr>\n",
       "  </tbody>\n",
       "</table>\n",
       "<p>55377 rows × 4 columns</p>\n",
       "</div>"
      ],
      "text/plain": [
       "            user_id                                gmap_id  \\\n",
       "0      1.117182e+20  0x89e3f6144d96a7f1:0x78577cee81076e28   \n",
       "1      1.105225e+20  0x89e3f6144d96a7f1:0x78577cee81076e28   \n",
       "2      1.091366e+20  0x89e3f6144d96a7f1:0x78577cee81076e28   \n",
       "3      1.045746e+20  0x89e3f6144d96a7f1:0x78577cee81076e28   \n",
       "4      1.075780e+20  0x89e3f6144d96a7f1:0x78577cee81076e28   \n",
       "...             ...                                    ...   \n",
       "55372  1.124470e+20  0x89e3a43f66fccc79:0x4058e86c35f55c61   \n",
       "55373  1.169013e+20  0x89e3a43f66fccc79:0x4058e86c35f55c61   \n",
       "55374  1.090290e+20  0x89e3a43f66fccc79:0x4058e86c35f55c61   \n",
       "55375  1.138475e+20  0x89e3a43f66fccc79:0x4058e86c35f55c61   \n",
       "55376  1.088056e+20  0x89e3a43f66fccc79:0x4058e86c35f55c61   \n",
       "\n",
       "                                                    text  rating  \n",
       "0      Excellent breakfast. Very good coffee. Homemad...       5  \n",
       "1      Great neighborhood diner. Great food. Wonderfu...       5  \n",
       "2      Fantastic food has great prices. Great atmosph...       5  \n",
       "3                    Old fashion Dinner. Love this place       5  \n",
       "4      Bland food. Although the employees were really...       2  \n",
       "...                                                  ...     ...  \n",
       "55372  Great food and beer selection. Has a very diff...       5  \n",
       "55373  I ate here with my two sons and their grandpar...       5  \n",
       "55374  Great atmosphere and very good food. The pizza...       4  \n",
       "55375  Love this place. Food is always great, pizza i...       5  \n",
       "55376  Was the start of a very good night in Lowell f...       5  \n",
       "\n",
       "[55377 rows x 4 columns]"
      ]
     },
     "execution_count": 57,
     "metadata": {},
     "output_type": "execute_result"
    }
   ],
   "source": [
    "cleaned_df = pd.read_csv('data/cleaned_df.csv')\n",
    "cleaned_df = cleaned_df.dropna()\n",
    "cleaned_df = cleaned_df[~cleaned_df['price'].isin(['₩₩', '₩', '₩₩₩₩', '₩₩₩'])]\n",
    "cleaned_df  = cleaned_df[['user_id','gmap_id', 'text', 'rating' ]]\n",
    "clenead_df\n"
   ]
  },
  {
   "cell_type": "markdown",
   "metadata": {},
   "source": [
    "We will fine-tune distilled_bert through the text classification task: we will let model classify the review text into 5 categories representing ratings (between 1 through 5)."
   ]
  },
  {
   "cell_type": "code",
   "execution_count": 38,
   "metadata": {},
   "outputs": [
    {
     "name": "stderr",
     "output_type": "stream",
     "text": [
      "Some weights of the PyTorch model were not used when initializing the TF 2.0 model TFDistilBertForSequenceClassification: ['vocab_projector.bias', 'vocab_layer_norm.weight', 'vocab_transform.bias', 'vocab_transform.weight', 'vocab_layer_norm.bias']\n",
      "- This IS expected if you are initializing TFDistilBertForSequenceClassification from a PyTorch model trained on another task or with another architecture (e.g. initializing a TFBertForSequenceClassification model from a BertForPreTraining model).\n",
      "- This IS NOT expected if you are initializing TFDistilBertForSequenceClassification from a PyTorch model that you expect to be exactly identical (e.g. initializing a TFBertForSequenceClassification model from a BertForSequenceClassification model).\n",
      "Some weights or buffers of the TF 2.0 model TFDistilBertForSequenceClassification were not initialized from the PyTorch model and are newly initialized: ['pre_classifier.weight', 'pre_classifier.bias', 'classifier.weight', 'classifier.bias']\n",
      "You should probably TRAIN this model on a down-stream task to be able to use it for predictions and inference.\n"
     ]
    },
    {
     "name": "stdout",
     "output_type": "stream",
     "text": [
      "Model: \"tf_distil_bert_for_sequence_classification_9\"\n",
      "_________________________________________________________________\n",
      " Layer (type)                Output Shape              Param #   \n",
      "=================================================================\n",
      " distilbert (TFDistilBertMa  multiple                  66362880  \n",
      " inLayer)                                                        \n",
      "                                                                 \n",
      " pre_classifier (Dense)      multiple                  590592    \n",
      "                                                                 \n",
      " classifier (Dense)          multiple                  3845      \n",
      "                                                                 \n",
      " dropout_199 (Dropout)       multiple                  0 (unused)\n",
      "                                                                 \n",
      "=================================================================\n",
      "Total params: 66957317 (255.42 MB)\n",
      "Trainable params: 66957317 (255.42 MB)\n",
      "Non-trainable params: 0 (0.00 Byte)\n",
      "_________________________________________________________________\n"
     ]
    }
   ],
   "source": [
    "from sklearn.model_selection import train_test_split\n",
    "from transformers import DistilBertTokenizer\n",
    "import tensorflow as tf\n",
    "\n",
    "from transformers import TFDistilBertForSequenceClassification\n",
    "\n",
    "\n",
    "# Split data\n",
    "train_texts, val_texts, train_labels, val_labels = train_test_split(\n",
    "    cleaned_df['text'], cleaned_df['rating'], test_size=0.2, random_state=42\n",
    ")\n",
    "\n",
    "# Adjust labels to be zero-indexed\n",
    "train_labels = train_labels - 1\n",
    "val_labels = val_labels - 1\n",
    "\n",
    "# Initialize tokenizer\n",
    "tokenizer = DistilBertTokenizer.from_pretrained('distilbert-base-uncased')\n",
    "\n",
    "def encode_texts(texts):\n",
    "    return tokenizer(texts.tolist(), padding=True, truncation=True, max_length=128, return_tensors=\"tf\")\n",
    "\n",
    "# Tokenize data\n",
    "train_encodings = encode_texts(train_texts)\n",
    "val_encodings = encode_texts(val_texts)\n",
    "# Convert labels to TensorFlow datasets\n",
    "train_dataset = tf.data.Dataset.from_tensor_slices((\n",
    "    {'input_ids': train_encodings['input_ids'], 'attention_mask': train_encodings['attention_mask']},\n",
    "    train_labels\n",
    ")).shuffle(len(train_texts)).batch(128)\n",
    "\n",
    "val_dataset = tf.data.Dataset.from_tensor_slices((\n",
    "    {'input_ids': val_encodings['input_ids'], 'attention_mask': val_encodings['attention_mask']},\n",
    "    val_labels\n",
    ")).batch(128)\n",
    "\n",
    "\n",
    "# Load the pre-trained DistilBERT model\n",
    "model2 = TFDistilBertForSequenceClassification.from_pretrained(\n",
    "    'distilbert-base-uncased', \n",
    "    num_labels=len(set(cleaned_df['rating']))  # Set the number of labels to the number of unique ratings\n",
    ")\n",
    "\n",
    "# Compile the model\n",
    "model2.compile(\n",
    "    optimizer=tf.keras.optimizers.Adam(learning_rate=5e-5),\n",
    "    loss=tf.keras.losses.SparseCategoricalCrossentropy(from_logits=True),\n",
    "    metrics=['accuracy']\n",
    ")\n",
    "\n",
    "model2.summary()\n",
    "\n"
   ]
  },
  {
   "cell_type": "code",
   "execution_count": 39,
   "metadata": {},
   "outputs": [
    {
     "name": "stdout",
     "output_type": "stream",
     "text": [
      "Epoch 1/9\n",
      "347/347 [==============================] - 534s 1s/step - loss: 0.8694 - accuracy: 0.6247 - val_loss: 0.7832 - val_accuracy: 0.6626\n",
      "Epoch 2/9\n",
      "347/347 [==============================] - 512s 1s/step - loss: 0.7347 - accuracy: 0.6797 - val_loss: 0.7858 - val_accuracy: 0.6629\n",
      "Epoch 3/9\n",
      "347/347 [==============================] - 511s 1s/step - loss: 0.6402 - accuracy: 0.7249 - val_loss: 0.8144 - val_accuracy: 0.6580\n",
      "Epoch 4/9\n",
      "347/347 [==============================] - 512s 1s/step - loss: 0.5394 - accuracy: 0.7768 - val_loss: 0.8747 - val_accuracy: 0.6541\n",
      "Epoch 5/9\n",
      "347/347 [==============================] - ETA: 0s - loss: 0.4264 - accuracy: 0.8291Restoring model weights from the end of the best epoch: 2.\n",
      "347/347 [==============================] - 512s 1s/step - loss: 0.4264 - accuracy: 0.8291 - val_loss: 1.0195 - val_accuracy: 0.6486\n",
      "Epoch 5: early stopping\n"
     ]
    }
   ],
   "source": [
    "from tensorflow.keras.callbacks import EarlyStopping\n",
    "early_stopping_callback = EarlyStopping(\n",
    "    monitor='val_accuracy',\n",
    "    patience=3,\n",
    "    verbose=1,\n",
    "    restore_best_weights=True\n",
    ")\n",
    "\n",
    "history2 = model2.fit(\n",
    "    train_dataset,\n",
    "    validation_data=val_dataset,\n",
    "    epochs=9,\n",
    "    callbacks=[early_stopping_callback]\n",
    ")\n"
   ]
  },
  {
   "cell_type": "code",
   "execution_count": 40,
   "metadata": {},
   "outputs": [
    {
     "name": "stdout",
     "output_type": "stream",
     "text": [
      "WARNING:tensorflow:Skipping full serialization of Keras layer <keras.src.layers.regularization.dropout.Dropout object at 0x7f11af4179d0>, because it is not built.\n"
     ]
    },
    {
     "name": "stderr",
     "output_type": "stream",
     "text": [
      "WARNING:tensorflow:Skipping full serialization of Keras layer <keras.src.layers.regularization.dropout.Dropout object at 0x7f11af4179d0>, because it is not built.\n"
     ]
    },
    {
     "name": "stdout",
     "output_type": "stream",
     "text": [
      "WARNING:tensorflow:Skipping full serialization of Keras layer <keras.src.layers.regularization.dropout.Dropout object at 0x7f120bc03b50>, because it is not built.\n"
     ]
    },
    {
     "name": "stderr",
     "output_type": "stream",
     "text": [
      "WARNING:tensorflow:Skipping full serialization of Keras layer <keras.src.layers.regularization.dropout.Dropout object at 0x7f120bc03b50>, because it is not built.\n"
     ]
    },
    {
     "name": "stdout",
     "output_type": "stream",
     "text": [
      "WARNING:tensorflow:Skipping full serialization of Keras layer <keras.src.layers.regularization.dropout.Dropout object at 0x7f11af4ea390>, because it is not built.\n"
     ]
    },
    {
     "name": "stderr",
     "output_type": "stream",
     "text": [
      "WARNING:tensorflow:Skipping full serialization of Keras layer <keras.src.layers.regularization.dropout.Dropout object at 0x7f11af4ea390>, because it is not built.\n"
     ]
    },
    {
     "name": "stdout",
     "output_type": "stream",
     "text": [
      "WARNING:tensorflow:Skipping full serialization of Keras layer <keras.src.layers.regularization.dropout.Dropout object at 0x7f12303d5cd0>, because it is not built.\n"
     ]
    },
    {
     "name": "stderr",
     "output_type": "stream",
     "text": [
      "WARNING:tensorflow:Skipping full serialization of Keras layer <keras.src.layers.regularization.dropout.Dropout object at 0x7f12303d5cd0>, because it is not built.\n"
     ]
    },
    {
     "name": "stdout",
     "output_type": "stream",
     "text": [
      "WARNING:tensorflow:Skipping full serialization of Keras layer <keras.src.layers.regularization.dropout.Dropout object at 0x7f11af47a790>, because it is not built.\n"
     ]
    },
    {
     "name": "stderr",
     "output_type": "stream",
     "text": [
      "WARNING:tensorflow:Skipping full serialization of Keras layer <keras.src.layers.regularization.dropout.Dropout object at 0x7f11af47a790>, because it is not built.\n"
     ]
    },
    {
     "name": "stdout",
     "output_type": "stream",
     "text": [
      "WARNING:tensorflow:Skipping full serialization of Keras layer <keras.src.layers.regularization.dropout.Dropout object at 0x7f11af0fbed0>, because it is not built.\n"
     ]
    },
    {
     "name": "stderr",
     "output_type": "stream",
     "text": [
      "WARNING:tensorflow:Skipping full serialization of Keras layer <keras.src.layers.regularization.dropout.Dropout object at 0x7f11af0fbed0>, because it is not built.\n"
     ]
    },
    {
     "name": "stdout",
     "output_type": "stream",
     "text": [
      "INFO:tensorflow:Assets written to: saved_models/distilled_model1/assets\n"
     ]
    },
    {
     "name": "stderr",
     "output_type": "stream",
     "text": [
      "INFO:tensorflow:Assets written to: saved_models/distilled_model1/assets\n"
     ]
    }
   ],
   "source": [
    "model2.save('saved_models/distilled_model1')"
   ]
  },
  {
   "cell_type": "code",
   "execution_count": 43,
   "metadata": {},
   "outputs": [
    {
     "data": {
      "image/png": "[encoded data removed]",
      "text/plain": [
       "<Figure size 1200x500 with 2 Axes>"
      ]
     },
     "metadata": {},
     "output_type": "display_data"
    }
   ],
   "source": [
    "\n",
    "\n",
    "plt.figure(figsize=(12, 5))\n",
    "\n",
    "plt.subplot(1, 2, 1)\n",
    "plt.plot(history2.history['accuracy'])\n",
    "plt.plot(history2.history['val_accuracy'])\n",
    "plt.title('DistilBert Fine-Tuning Accuracy')\n",
    "plt.ylabel('Accuracy')\n",
    "plt.xlabel('Epoch')\n",
    "plt.legend(['Train', 'Validation'], loc='upper left')\n",
    "plt.xticks([0, 1, 2, 3, 4])  # Set x-axis ticks to start at 1\n",
    "\n",
    "# Plot training & validation loss values\n",
    "plt.subplot(1, 2, 2)\n",
    "plt.plot(history2.history['loss'])\n",
    "plt.plot(history2.history['val_loss'])\n",
    "plt.title('DistilBert Fine-Tuning Loss')\n",
    "plt.ylabel('Loss')\n",
    "plt.xlabel('Epoch')\n",
    "plt.legend(['Train', 'Validation'], loc='upper left')\n",
    "plt.xticks([0, 1, 2, 3, 4])  # Set x-axis ticks to start at 1\n",
    "\n",
    "plt.tight_layout()\n",
    "plt.show()\n"
   ]
  },
  {
   "cell_type": "markdown",
   "metadata": {},
   "source": [
    "## Get Embeddings Using Fine-Tuned Distilled Bert Weights"
   ]
  },
  {
   "cell_type": "code",
   "execution_count": 50,
   "metadata": {},
   "outputs": [
    {
     "name": "stderr",
     "output_type": "stream",
     "text": [
      "Some weights of the PyTorch model were not used when initializing the TF 2.0 model TFDistilBertModel: ['vocab_projector.bias', 'vocab_layer_norm.weight', 'vocab_transform.bias', 'vocab_transform.weight', 'vocab_layer_norm.bias']\n",
      "- This IS expected if you are initializing TFDistilBertModel from a PyTorch model trained on another task or with another architecture (e.g. initializing a TFBertForSequenceClassification model from a BertForPreTraining model).\n",
      "- This IS NOT expected if you are initializing TFDistilBertModel from a PyTorch model that you expect to be exactly identical (e.g. initializing a TFBertForSequenceClassification model from a BertForSequenceClassification model).\n",
      "All the weights of TFDistilBertModel were initialized from the PyTorch model.\n",
      "If your task is similar to the task the model of the checkpoint was trained on, you can already use TFDistilBertModel for predictions without further training.\n"
     ]
    }
   ],
   "source": [
    "def encode_texts(texts):\n",
    "    # Ensure the texts parameter is treated as a list directly\n",
    "    return tokenizer(texts, padding=True, truncation=True, max_length=128, return_tensors=\"tf\")\n",
    "\n",
    "from transformers import TFDistilBertModel\n",
    "\n",
    "# Load the base model\n",
    "model_base = TFDistilBertModel.from_pretrained('distilbert-base-uncased', config=model2.config)\n",
    "\n",
    "# Manually transfer weights from the fine-tuned classification model to the base model\n",
    "model_base.set_weights(model2.distilbert.get_weights())\n",
    "\n",
    "# Now use this model to extract embeddings\n",
    "def get_embeddings(text):\n",
    "    encodings = encode_texts([text])\n",
    "    outputs = model_base(encodings['input_ids'], attention_mask=encodings['attention_mask'])\n",
    "    # Using the last hidden state\n",
    "    hidden_states = outputs.last_hidden_state[:, 0, :].numpy()  # CLS token output\n",
    "    return hidden_states\n",
    "\n",
    "user_df['text_embedding'] = user_df['text'].apply(get_embeddings)"
   ]
  },
  {
   "cell_type": "code",
   "execution_count": 51,
   "metadata": {},
   "outputs": [
    {
     "data": {
      "text/html": [
       "<div>\n",
       "<style scoped>\n",
       "    .dataframe tbody tr th:only-of-type {\n",
       "        vertical-align: middle;\n",
       "    }\n",
       "\n",
       "    .dataframe tbody tr th {\n",
       "        vertical-align: top;\n",
       "    }\n",
       "\n",
       "    .dataframe thead th {\n",
       "        text-align: right;\n",
       "    }\n",
       "</style>\n",
       "<table border=\"1\" class=\"dataframe\">\n",
       "  <thead>\n",
       "    <tr style=\"text-align: right;\">\n",
       "      <th></th>\n",
       "      <th>user_id</th>\n",
       "      <th>text</th>\n",
       "      <th>text_embedding</th>\n",
       "    </tr>\n",
       "  </thead>\n",
       "  <tbody>\n",
       "    <tr>\n",
       "      <th>0</th>\n",
       "      <td>1.000018e+20</td>\n",
       "      <td>Great food. The service was a little slow. It ...</td>\n",
       "      <td>[[-0.09031649, -0.87733984, -0.8550365, 1.0098...</td>\n",
       "    </tr>\n",
       "    <tr>\n",
       "      <th>1</th>\n",
       "      <td>1.000020e+20</td>\n",
       "      <td>I like the variety of burgers they offer. But ...</td>\n",
       "      <td>[[0.12926187, -0.89539665, -0.19191237, 0.8793...</td>\n",
       "    </tr>\n",
       "    <tr>\n",
       "      <th>2</th>\n",
       "      <td>1.000027e+20</td>\n",
       "      <td>Margarita was yummy. Food not great.\\nCrazy No...</td>\n",
       "      <td>[[0.012265073, -0.6484629, -0.006106712, 1.210...</td>\n",
       "    </tr>\n",
       "    <tr>\n",
       "      <th>3</th>\n",
       "      <td>1.000030e+20</td>\n",
       "      <td>Very good food a little pricey but worth every...</td>\n",
       "      <td>[[0.26658517, -0.34426978, -0.49511626, 0.8546...</td>\n",
       "    </tr>\n",
       "    <tr>\n",
       "      <th>4</th>\n",
       "      <td>1.000057e+20</td>\n",
       "      <td>Delightful and charming place to dine outside....</td>\n",
       "      <td>[[0.4648932, -0.8820121, 0.44756183, 0.5655584...</td>\n",
       "    </tr>\n",
       "  </tbody>\n",
       "</table>\n",
       "</div>"
      ],
      "text/plain": [
       "        user_id                                               text  \\\n",
       "0  1.000018e+20  Great food. The service was a little slow. It ...   \n",
       "1  1.000020e+20  I like the variety of burgers they offer. But ...   \n",
       "2  1.000027e+20  Margarita was yummy. Food not great.\\nCrazy No...   \n",
       "3  1.000030e+20  Very good food a little pricey but worth every...   \n",
       "4  1.000057e+20  Delightful and charming place to dine outside....   \n",
       "\n",
       "                                      text_embedding  \n",
       "0  [[-0.09031649, -0.87733984, -0.8550365, 1.0098...  \n",
       "1  [[0.12926187, -0.89539665, -0.19191237, 0.8793...  \n",
       "2  [[0.012265073, -0.6484629, -0.006106712, 1.210...  \n",
       "3  [[0.26658517, -0.34426978, -0.49511626, 0.8546...  \n",
       "4  [[0.4648932, -0.8820121, 0.44756183, 0.5655584...  "
      ]
     },
     "execution_count": 51,
     "metadata": {},
     "output_type": "execute_result"
    }
   ],
   "source": [
    "user_df.head()"
   ]
  },
  {
   "cell_type": "code",
   "execution_count": 52,
   "metadata": {},
   "outputs": [],
   "source": [
    "user_df.to_csv(\"data/user_reviews_distillbert_df.csv\", index=False)"
   ]
  },
  {
   "cell_type": "code",
   "execution_count": null,
   "metadata": {},
   "outputs": [],
   "source": []
  }
 ],
 "metadata": {
  "colab": {
   "provenance": [],
   "toc_visible": true
  },
  "kernelspec": {
   "display_name": "Python 3 (ipykernel)",
   "language": "python",
   "name": "python3"
  },
  "language_info": {
   "codemirror_mode": {
    "name": "ipython",
    "version": 3
   },
   "file_extension": ".py",
   "mimetype": "text/x-python",
   "name": "python",
   "nbconvert_exporter": "python",
   "pygments_lexer": "ipython3",
   "version": "3.11.7"
  }
 },
 "nbformat": 4,
 "nbformat_minor": 4
}
