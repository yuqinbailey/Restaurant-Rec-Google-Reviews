{
 "cells": [
  {
   "cell_type": "code",
   "execution_count": 1,
   "id": "d93c6642-7a44-498e-a9b3-300316b8a349",
   "metadata": {},
   "outputs": [],
   "source": [
    "import pandas as pd"
   ]
  },
  {
   "cell_type": "markdown",
   "id": "ed62625b-6f2c-4a0f-b170-a6fe1e8a0f7c",
   "metadata": {},
   "source": [
    "## BERT"
   ]
  },
  {
   "cell_type": "code",
   "execution_count": 5,
   "id": "34bca31a-ce61-42eb-8978-b8dc910c4768",
   "metadata": {},
   "outputs": [],
   "source": [
    "import torch\n",
    "from transformers import BertModel, BertTokenizer"
   ]
  },
  {
   "cell_type": "code",
   "execution_count": 2,
   "id": "bda5ae76-d206-4698-af7e-e0479e9ff86d",
   "metadata": {},
   "outputs": [],
   "source": [
    "train_df = pd.read_csv('data/user_concat_text_10_train.csv', sep=';')"
   ]
  },
  {
   "cell_type": "code",
   "execution_count": 7,
   "id": "f61ad63c-0a29-482e-ba37-a99ae3857a79",
   "metadata": {},
   "outputs": [],
   "source": [
    "tokenizer = BertTokenizer.from_pretrained('bert-base-uncased')\n",
    "model = BertModel.from_pretrained('bert-base-uncased')"
   ]
  },
  {
   "cell_type": "code",
   "execution_count": 8,
   "id": "f95abd4f-901b-4a1d-a39a-c032a271d964",
   "metadata": {},
   "outputs": [],
   "source": [
    "device = torch.device(\"cuda\" if torch.cuda.is_available() else \"cpu\")\n",
    "\n",
    "def generate_embedding(input_text):\n",
    "    # Tokenize input text\n",
    "    input_ids = tokenizer.encode_plus(input_text, \n",
    "                                      add_special_tokens=True, \n",
    "                                      return_tensors=\"pt\", \n",
    "                                      truncation=True,\n",
    "                                      max_length=512,\n",
    "                                      padding='max_length')  # Adjust max_length\n",
    "    # Move inputs to GPU\n",
    "    input_ids = input_ids.to(device)\n",
    "    with torch.no_grad():\n",
    "        # Move model to GPU\n",
    "        model.to(device)\n",
    "        outputs = model(**input_ids)  # Pass the tokenized inputs as keyword arguments\n",
    "        embeddings = outputs.last_hidden_state  # Extract the embeddings\n",
    "    return embeddings"
   ]
  },
  {
   "cell_type": "code",
   "execution_count": 9,
   "id": "5cb87282-18f0-4979-9b7f-a08bb05615bf",
   "metadata": {},
   "outputs": [
    {
     "data": {
      "text/plain": [
       "tensor([[[-0.0280, -0.0087,  0.3377,  ...,  0.0632,  0.6283,  0.0244],\n",
       "         [ 0.4234, -0.1273, -0.4582,  ..., -0.3916,  1.2081, -0.4115],\n",
       "         [ 1.0119,  0.3709,  0.6229,  ..., -0.0625,  0.3075, -0.4693],\n",
       "         ...,\n",
       "         [ 0.1157, -0.1634,  0.4915,  ...,  0.3386,  0.2893, -0.6721],\n",
       "         [ 0.5154,  0.0806,  0.5953,  ...,  0.3369,  0.1235, -0.3815],\n",
       "         [ 0.0180, -0.3310,  0.6013,  ...,  0.4107,  0.2971, -0.4481]]],\n",
       "       device='cuda:0')"
      ]
     },
     "execution_count": 9,
     "metadata": {},
     "output_type": "execute_result"
    }
   ],
   "source": [
    "generate_embedding('We loved this place and are sad that it is closed')"
   ]
  },
  {
   "cell_type": "code",
   "execution_count": 10,
   "id": "6b14fbb3-7585-4d62-83cf-aceb429268cd",
   "metadata": {},
   "outputs": [
    {
     "data": {
      "text/plain": [
       "device(type='cuda')"
      ]
     },
     "execution_count": 10,
     "metadata": {},
     "output_type": "execute_result"
    }
   ],
   "source": [
    "device"
   ]
  },
  {
   "cell_type": "code",
   "execution_count": null,
   "id": "21da7615-4bfd-4c22-b951-8293d46acc8d",
   "metadata": {},
   "outputs": [],
   "source": [
    "# Apply the generate_embedding function to the 'text' column\n",
    "train_df['bert_embedding'] = train_df['text'].apply(generate_embedding)\n",
    "\n",
    "# Move DataFrame to CPU for further processing if needed\n",
    "# train_df = train_df.cpu()"
   ]
  },
  {
   "cell_type": "code",
   "execution_count": 21,
   "id": "692ba509-8e0a-47ab-9c9e-eb1723f0dfeb",
   "metadata": {},
   "outputs": [],
   "source": [
    "train_df['bert_embedding'] = train_df['bert_embedding'].apply(lambda x: x.to('cpu').numpy() if isinstance(x, torch.Tensor) else x)"
   ]
  },
  {
   "cell_type": "code",
   "execution_count": 28,
   "id": "515de37a-5d2a-4cc1-9743-b5c21458097b",
   "metadata": {},
   "outputs": [],
   "source": [
    "train_df['bert_embedding'] = train_df['bert_embedding'].apply(lambda x: x.reshape(512, 768))"
   ]
  },
  {
   "cell_type": "code",
   "execution_count": 29,
   "id": "144a78de-bc57-4b25-868b-36d7b8b76ec0",
   "metadata": {},
   "outputs": [
    {
     "data": {
      "text/html": [
       "<div>\n",
       "<style scoped>\n",
       "    .dataframe tbody tr th:only-of-type {\n",
       "        vertical-align: middle;\n",
       "    }\n",
       "\n",
       "    .dataframe tbody tr th {\n",
       "        vertical-align: top;\n",
       "    }\n",
       "\n",
       "    .dataframe thead th {\n",
       "        text-align: right;\n",
       "    }\n",
       "</style>\n",
       "<table border=\"1\" class=\"dataframe\">\n",
       "  <thead>\n",
       "    <tr style=\"text-align: right;\">\n",
       "      <th></th>\n",
       "      <th>user_id</th>\n",
       "      <th>text</th>\n",
       "      <th>bert_embedding</th>\n",
       "    </tr>\n",
       "  </thead>\n",
       "  <tbody>\n",
       "    <tr>\n",
       "      <th>0</th>\n",
       "      <td>1.040754e+20</td>\n",
       "      <td>Good food, good people.\\nIt's McDonald's. My f...</td>\n",
       "      <td>[[-0.2526437, -0.4397369, 0.45666978, 0.095691...</td>\n",
       "    </tr>\n",
       "    <tr>\n",
       "      <th>1</th>\n",
       "      <td>1.029652e+20</td>\n",
       "      <td>Authentic Tuscany cuisine. Great atmosphere ex...</td>\n",
       "      <td>[[-0.22569536, 0.06812792, 0.31493652, 0.11971...</td>\n",
       "    </tr>\n",
       "    <tr>\n",
       "      <th>2</th>\n",
       "      <td>1.009114e+20</td>\n",
       "      <td>We love Nippon Grill and we were grateful to b...</td>\n",
       "      <td>[[0.22323227, -0.17345627, 0.2356291, -0.08483...</td>\n",
       "    </tr>\n",
       "    <tr>\n",
       "      <th>3</th>\n",
       "      <td>1.119671e+20</td>\n",
       "      <td>A must go if you're in downtown Lowell! Staff,...</td>\n",
       "      <td>[[-0.4919597, -0.27820456, 0.16277456, -0.4657...</td>\n",
       "    </tr>\n",
       "    <tr>\n",
       "      <th>4</th>\n",
       "      <td>1.136804e+20</td>\n",
       "      <td>Great freakin' Q at a reasonable price. Love t...</td>\n",
       "      <td>[[0.023719942, -0.09157198, 0.47261178, -0.045...</td>\n",
       "    </tr>\n",
       "  </tbody>\n",
       "</table>\n",
       "</div>"
      ],
      "text/plain": [
       "        user_id                                               text  \\\n",
       "0  1.040754e+20  Good food, good people.\\nIt's McDonald's. My f...   \n",
       "1  1.029652e+20  Authentic Tuscany cuisine. Great atmosphere ex...   \n",
       "2  1.009114e+20  We love Nippon Grill and we were grateful to b...   \n",
       "3  1.119671e+20  A must go if you're in downtown Lowell! Staff,...   \n",
       "4  1.136804e+20  Great freakin' Q at a reasonable price. Love t...   \n",
       "\n",
       "                                      bert_embedding  \n",
       "0  [[-0.2526437, -0.4397369, 0.45666978, 0.095691...  \n",
       "1  [[-0.22569536, 0.06812792, 0.31493652, 0.11971...  \n",
       "2  [[0.22323227, -0.17345627, 0.2356291, -0.08483...  \n",
       "3  [[-0.4919597, -0.27820456, 0.16277456, -0.4657...  \n",
       "4  [[0.023719942, -0.09157198, 0.47261178, -0.045...  "
      ]
     },
     "execution_count": 29,
     "metadata": {},
     "output_type": "execute_result"
    }
   ],
   "source": [
    "train_df.head()"
   ]
  },
  {
   "cell_type": "code",
   "execution_count": 33,
   "id": "5083447e-e771-49dc-a5af-39062d854f08",
   "metadata": {},
   "outputs": [],
   "source": [
    "train_df.to_csv('data/user_concat_text_10_train.csv', sep=';', index=False)"
   ]
  },
  {
   "cell_type": "markdown",
   "id": "608d1087",
   "metadata": {},
   "source": [
    "## Find Similar Users"
   ]
  },
  {
   "cell_type": "code",
   "execution_count": 30,
   "id": "328f1123",
   "metadata": {},
   "outputs": [],
   "source": [
    "import numpy as np\n",
    "import importlib\n",
    "import utility\n",
    "importlib.reload(utility)\n",
    "from utility import get_similar_users_avg_rating, merge_df"
   ]
  },
  {
   "cell_type": "code",
   "execution_count": 3,
   "id": "812a8b56",
   "metadata": {},
   "outputs": [],
   "source": [
    "df_filtered = pd.read_csv(\"data/english_reviews.csv\")"
   ]
  },
  {
   "cell_type": "code",
   "execution_count": 8,
   "id": "18b288a7",
   "metadata": {},
   "outputs": [],
   "source": [
    "# Count the number of comments per gmap_id\n",
    "comment_counts = df_filtered['gmap_id'].value_counts().reset_index()\n",
    "comment_counts.columns = ['gmap_id', 'comment_count']"
   ]
  },
  {
   "cell_type": "code",
   "execution_count": 9,
   "id": "aaf37d39",
   "metadata": {},
   "outputs": [],
   "source": [
    "df_filtered = df_filtered.merge(comment_counts, on='gmap_id', how='left')\n",
    "df_filtered.to_csv(\"data/english_reviews.csv\", index=False)"
   ]
  },
  {
   "cell_type": "code",
   "execution_count": 6,
   "id": "bb900601",
   "metadata": {},
   "outputs": [],
   "source": [
    "get_similar_users_avg_rating(train_df, df_filtered, '1.1803866805367366e+20','0x89e3706a62ba248f:0xdd2878d145d53400')"
   ]
  },
  {
   "cell_type": "code",
   "execution_count": 23,
   "id": "f66e0a1f",
   "metadata": {},
   "outputs": [
    {
     "name": "stderr",
     "output_type": "stream",
     "text": [
      "/Users/yuqinbailey/ds2/Restaurant-Rec-Google-Reviews/utility.py:40: DtypeWarning: Columns (19) have mixed types. Specify dtype option on import or set low_memory=False.\n",
      "  df = pd.read_csv(\"data/data_ma.csv\")\n"
     ]
    }
   ],
   "source": [
    "df_cleaned = merge_df(df_filtered)"
   ]
  },
  {
   "cell_type": "code",
   "execution_count": 26,
   "id": "fadd65c6",
   "metadata": {},
   "outputs": [
    {
     "data": {
      "text/plain": [
       "user_id            object\n",
       "gmap_id            object\n",
       "text               object\n",
       "rating              int64\n",
       "comment_count       int64\n",
       "name_y             object\n",
       "latitude          float64\n",
       "longitude         float64\n",
       "num_of_reviews      int64\n",
       "price              object\n",
       "avg_rating        float64\n",
       "dtype: object"
      ]
     },
     "execution_count": 26,
     "metadata": {},
     "output_type": "execute_result"
    }
   ],
   "source": [
    "df_cleaned.dtypes"
   ]
  },
  {
   "cell_type": "code",
   "execution_count": 31,
   "id": "bbfd10f8",
   "metadata": {},
   "outputs": [
    {
     "name": "stderr",
     "output_type": "stream",
     "text": [
      "/var/folders/wh/3zjhqx7s7d747p205gcyh2480000gn/T/ipykernel_5326/325559367.py:5: FutureWarning: A value is trying to be set on a copy of a DataFrame or Series through chained assignment using an inplace method.\n",
      "The behavior will change in pandas 3.0. This inplace method will never work because the intermediate object on which we are setting values always behaves as a copy.\n",
      "\n",
      "For example, when doing 'df[col].method(value, inplace=True)', try using 'df.method({col: value}, inplace=True)' or df[col] = df[col].method(value) instead, to perform the operation inplace on the original object.\n",
      "\n",
      "\n",
      "  df_cleaned['bert_rating'].replace({None: pd.NA}, inplace=True)\n"
     ]
    }
   ],
   "source": [
    "df_cleaned['bert_rating'] = df_cleaned.apply(lambda row: get_similar_users_avg_rating(\n",
    "    train_df, df_filtered, row['user_id'], row['gmap_id']), axis=1)\n",
    "\n",
    "# Replace None with pd.nan in 'bert_rating' column\n",
    "df_cleaned['bert_rating'].replace({None: np.nan}, inplace=True)"
   ]
  },
  {
   "cell_type": "code",
   "execution_count": 38,
   "id": "2dd5439d",
   "metadata": {},
   "outputs": [],
   "source": [
    "df_cleaned.to_csv(\"data/df_cleaned.csv\", index=False)"
   ]
  },
  {
   "cell_type": "markdown",
   "id": "aa4906e0-39c5-44c8-9c04-1d9a202a4d81",
   "metadata": {
    "jp-MarkdownHeadingCollapsed": true
   },
   "source": [
    "## df_cleaned"
   ]
  },
  {
   "cell_type": "markdown",
   "id": "6ed50417-33e6-408d-8199-72cbb3541cd6",
   "metadata": {},
   "source": [
    "**Data:** `df_cleaned`\n",
    "* English\n",
    "* emoji removed\n",
    "* User 10-core\n",
    "* Restaurant 50-core\n",
    "* No duplicates\n",
    "Count: 479,185"
   ]
  },
  {
   "cell_type": "code",
   "execution_count": 43,
   "id": "d2cb7c83-7c21-4310-b27b-40dfb36608b0",
   "metadata": {},
   "outputs": [
    {
     "data": {
      "text/html": [
       "<div>\n",
       "<style scoped>\n",
       "    .dataframe tbody tr th:only-of-type {\n",
       "        vertical-align: middle;\n",
       "    }\n",
       "\n",
       "    .dataframe tbody tr th {\n",
       "        vertical-align: top;\n",
       "    }\n",
       "\n",
       "    .dataframe thead th {\n",
       "        text-align: right;\n",
       "    }\n",
       "</style>\n",
       "<table border=\"1\" class=\"dataframe\">\n",
       "  <thead>\n",
       "    <tr style=\"text-align: right;\">\n",
       "      <th></th>\n",
       "      <th>user_id</th>\n",
       "      <th>gmap_id</th>\n",
       "      <th>text</th>\n",
       "      <th>rating</th>\n",
       "      <th>comment_count</th>\n",
       "      <th>name_y</th>\n",
       "      <th>latitude</th>\n",
       "      <th>longitude</th>\n",
       "      <th>num_of_reviews</th>\n",
       "      <th>price</th>\n",
       "      <th>avg_rating</th>\n",
       "      <th>bert_rating</th>\n",
       "    </tr>\n",
       "  </thead>\n",
       "  <tbody>\n",
       "    <tr>\n",
       "      <th>0</th>\n",
       "      <td>1.158159e+20</td>\n",
       "      <td>0x89e4123f09765c47:0x7f5c63deb47b41fd</td>\n",
       "      <td>Mobile ordered. Showed up and nobody knew wher...</td>\n",
       "      <td>2</td>\n",
       "      <td>52</td>\n",
       "      <td>Burger King</td>\n",
       "      <td>42.123992</td>\n",
       "      <td>-71.646017</td>\n",
       "      <td>174</td>\n",
       "      <td>$</td>\n",
       "      <td>3.5</td>\n",
       "      <td>NaN</td>\n",
       "    </tr>\n",
       "    <tr>\n",
       "      <th>1</th>\n",
       "      <td>1.095395e+20</td>\n",
       "      <td>0x89e4123f09765c47:0x7f5c63deb47b41fd</td>\n",
       "      <td>Newly renovated, friendly employees, clean and...</td>\n",
       "      <td>5</td>\n",
       "      <td>52</td>\n",
       "      <td>Burger King</td>\n",
       "      <td>42.123992</td>\n",
       "      <td>-71.646017</td>\n",
       "      <td>174</td>\n",
       "      <td>$</td>\n",
       "      <td>3.5</td>\n",
       "      <td>NaN</td>\n",
       "    </tr>\n",
       "    <tr>\n",
       "      <th>2</th>\n",
       "      <td>1.010319e+20</td>\n",
       "      <td>0x89e4123f09765c47:0x7f5c63deb47b41fd</td>\n",
       "      <td>Clean new place organized friendly staff</td>\n",
       "      <td>5</td>\n",
       "      <td>52</td>\n",
       "      <td>Burger King</td>\n",
       "      <td>42.123992</td>\n",
       "      <td>-71.646017</td>\n",
       "      <td>174</td>\n",
       "      <td>$</td>\n",
       "      <td>3.5</td>\n",
       "      <td>NaN</td>\n",
       "    </tr>\n",
       "    <tr>\n",
       "      <th>3</th>\n",
       "      <td>1.110844e+20</td>\n",
       "      <td>0x89e4123f09765c47:0x7f5c63deb47b41fd</td>\n",
       "      <td>Very fast delivery and nice place</td>\n",
       "      <td>5</td>\n",
       "      <td>52</td>\n",
       "      <td>Burger King</td>\n",
       "      <td>42.123992</td>\n",
       "      <td>-71.646017</td>\n",
       "      <td>174</td>\n",
       "      <td>$</td>\n",
       "      <td>3.5</td>\n",
       "      <td>NaN</td>\n",
       "    </tr>\n",
       "    <tr>\n",
       "      <th>4</th>\n",
       "      <td>1.182766e+20</td>\n",
       "      <td>0x89e4123f09765c47:0x7f5c63deb47b41fd</td>\n",
       "      <td>Was nice to see the Burger King finally opened...</td>\n",
       "      <td>2</td>\n",
       "      <td>52</td>\n",
       "      <td>Burger King</td>\n",
       "      <td>42.123992</td>\n",
       "      <td>-71.646017</td>\n",
       "      <td>174</td>\n",
       "      <td>$</td>\n",
       "      <td>3.5</td>\n",
       "      <td>NaN</td>\n",
       "    </tr>\n",
       "    <tr>\n",
       "      <th>...</th>\n",
       "      <td>...</td>\n",
       "      <td>...</td>\n",
       "      <td>...</td>\n",
       "      <td>...</td>\n",
       "      <td>...</td>\n",
       "      <td>...</td>\n",
       "      <td>...</td>\n",
       "      <td>...</td>\n",
       "      <td>...</td>\n",
       "      <td>...</td>\n",
       "      <td>...</td>\n",
       "      <td>...</td>\n",
       "    </tr>\n",
       "    <tr>\n",
       "      <th>479185</th>\n",
       "      <td>1.158547e+20</td>\n",
       "      <td>0x89e5290944643609:0x6b5cbf7224fe52bc</td>\n",
       "      <td>Has the best shrimp</td>\n",
       "      <td>5</td>\n",
       "      <td>86</td>\n",
       "      <td>Martha's Vineyard Chowder Company</td>\n",
       "      <td>41.457841</td>\n",
       "      <td>-70.557289</td>\n",
       "      <td>445</td>\n",
       "      <td>$$</td>\n",
       "      <td>4.4</td>\n",
       "      <td>NaN</td>\n",
       "    </tr>\n",
       "    <tr>\n",
       "      <th>479186</th>\n",
       "      <td>1.017955e+20</td>\n",
       "      <td>0x89e5290944643609:0x6b5cbf7224fe52bc</td>\n",
       "      <td>Good food, sword fish is the best</td>\n",
       "      <td>4</td>\n",
       "      <td>86</td>\n",
       "      <td>Martha's Vineyard Chowder Company</td>\n",
       "      <td>41.457841</td>\n",
       "      <td>-70.557289</td>\n",
       "      <td>445</td>\n",
       "      <td>$$</td>\n",
       "      <td>4.4</td>\n",
       "      <td>NaN</td>\n",
       "    </tr>\n",
       "    <tr>\n",
       "      <th>479187</th>\n",
       "      <td>1.101792e+20</td>\n",
       "      <td>0x89e5290944643609:0x6b5cbf7224fe52bc</td>\n",
       "      <td>The chowder actually is exceptionally delicious.</td>\n",
       "      <td>5</td>\n",
       "      <td>86</td>\n",
       "      <td>Martha's Vineyard Chowder Company</td>\n",
       "      <td>41.457841</td>\n",
       "      <td>-70.557289</td>\n",
       "      <td>445</td>\n",
       "      <td>$$</td>\n",
       "      <td>4.4</td>\n",
       "      <td>NaN</td>\n",
       "    </tr>\n",
       "    <tr>\n",
       "      <th>479188</th>\n",
       "      <td>1.052239e+20</td>\n",
       "      <td>0x89e5290944643609:0x6b5cbf7224fe52bc</td>\n",
       "      <td>(Translated by Google) Nice service, great ser...</td>\n",
       "      <td>5</td>\n",
       "      <td>86</td>\n",
       "      <td>Martha's Vineyard Chowder Company</td>\n",
       "      <td>41.457841</td>\n",
       "      <td>-70.557289</td>\n",
       "      <td>445</td>\n",
       "      <td>$$</td>\n",
       "      <td>4.4</td>\n",
       "      <td>NaN</td>\n",
       "    </tr>\n",
       "    <tr>\n",
       "      <th>479189</th>\n",
       "      <td>1.056386e+20</td>\n",
       "      <td>0x89e5290944643609:0x6b5cbf7224fe52bc</td>\n",
       "      <td>(Translated by Google) Unbelievable chowda !!!...</td>\n",
       "      <td>5</td>\n",
       "      <td>86</td>\n",
       "      <td>Martha's Vineyard Chowder Company</td>\n",
       "      <td>41.457841</td>\n",
       "      <td>-70.557289</td>\n",
       "      <td>445</td>\n",
       "      <td>$$</td>\n",
       "      <td>4.4</td>\n",
       "      <td>NaN</td>\n",
       "    </tr>\n",
       "  </tbody>\n",
       "</table>\n",
       "<p>479185 rows × 12 columns</p>\n",
       "</div>"
      ],
      "text/plain": [
       "             user_id                                gmap_id  \\\n",
       "0       1.158159e+20  0x89e4123f09765c47:0x7f5c63deb47b41fd   \n",
       "1       1.095395e+20  0x89e4123f09765c47:0x7f5c63deb47b41fd   \n",
       "2       1.010319e+20  0x89e4123f09765c47:0x7f5c63deb47b41fd   \n",
       "3       1.110844e+20  0x89e4123f09765c47:0x7f5c63deb47b41fd   \n",
       "4       1.182766e+20  0x89e4123f09765c47:0x7f5c63deb47b41fd   \n",
       "...              ...                                    ...   \n",
       "479185  1.158547e+20  0x89e5290944643609:0x6b5cbf7224fe52bc   \n",
       "479186  1.017955e+20  0x89e5290944643609:0x6b5cbf7224fe52bc   \n",
       "479187  1.101792e+20  0x89e5290944643609:0x6b5cbf7224fe52bc   \n",
       "479188  1.052239e+20  0x89e5290944643609:0x6b5cbf7224fe52bc   \n",
       "479189  1.056386e+20  0x89e5290944643609:0x6b5cbf7224fe52bc   \n",
       "\n",
       "                                                     text  rating  \\\n",
       "0       Mobile ordered. Showed up and nobody knew wher...       2   \n",
       "1       Newly renovated, friendly employees, clean and...       5   \n",
       "2                Clean new place organized friendly staff       5   \n",
       "3                       Very fast delivery and nice place       5   \n",
       "4       Was nice to see the Burger King finally opened...       2   \n",
       "...                                                   ...     ...   \n",
       "479185                                Has the best shrimp       5   \n",
       "479186                  Good food, sword fish is the best       4   \n",
       "479187   The chowder actually is exceptionally delicious.       5   \n",
       "479188  (Translated by Google) Nice service, great ser...       5   \n",
       "479189  (Translated by Google) Unbelievable chowda !!!...       5   \n",
       "\n",
       "        comment_count                             name_y   latitude  \\\n",
       "0                  52                        Burger King  42.123992   \n",
       "1                  52                        Burger King  42.123992   \n",
       "2                  52                        Burger King  42.123992   \n",
       "3                  52                        Burger King  42.123992   \n",
       "4                  52                        Burger King  42.123992   \n",
       "...               ...                                ...        ...   \n",
       "479185             86  Martha's Vineyard Chowder Company  41.457841   \n",
       "479186             86  Martha's Vineyard Chowder Company  41.457841   \n",
       "479187             86  Martha's Vineyard Chowder Company  41.457841   \n",
       "479188             86  Martha's Vineyard Chowder Company  41.457841   \n",
       "479189             86  Martha's Vineyard Chowder Company  41.457841   \n",
       "\n",
       "        longitude  num_of_reviews price  avg_rating  bert_rating  \n",
       "0      -71.646017             174     $         3.5          NaN  \n",
       "1      -71.646017             174     $         3.5          NaN  \n",
       "2      -71.646017             174     $         3.5          NaN  \n",
       "3      -71.646017             174     $         3.5          NaN  \n",
       "4      -71.646017             174     $         3.5          NaN  \n",
       "...           ...             ...   ...         ...          ...  \n",
       "479185 -70.557289             445    $$         4.4          NaN  \n",
       "479186 -70.557289             445    $$         4.4          NaN  \n",
       "479187 -70.557289             445    $$         4.4          NaN  \n",
       "479188 -70.557289             445    $$         4.4          NaN  \n",
       "479189 -70.557289             445    $$         4.4          NaN  \n",
       "\n",
       "[479185 rows x 12 columns]"
      ]
     },
     "execution_count": 43,
     "metadata": {},
     "output_type": "execute_result"
    }
   ],
   "source": [
    "df_cleaned = pd.read_csv(\"data/df_cleaned.csv\")\n",
    "\n",
    "df_cleaned.drop_duplicates(inplace=False)\n"
   ]
  },
  {
   "cell_type": "code",
   "execution_count": 44,
   "id": "6f96d2b9-fb27-461e-8fe8-9712c7b0033c",
   "metadata": {},
   "outputs": [
    {
     "data": {
      "image/png": "[encoded data removed]",
      "text/plain": [
       "<Figure size 1000x600 with 1 Axes>"
      ]
     },
     "metadata": {},
     "output_type": "display_data"
    }
   ],
   "source": [
    "import matplotlib.pyplot as plt\n",
    "\n",
    "# Calculate the length of each text\n",
    "text_lengths = df_cleaned['text'].apply(len)\n",
    "\n",
    "# Plot the histogram\n",
    "plt.figure(figsize=(10, 6))\n",
    "plt.hist(text_lengths, bins=50, color='skyblue', edgecolor='black')\n",
    "plt.title('Length Distribution of Text')\n",
    "plt.xlabel('Text Length')\n",
    "plt.ylabel('Frequency')\n",
    "plt.grid(True)\n",
    "plt.show()"
   ]
  },
  {
   "cell_type": "code",
   "execution_count": 45,
   "id": "ac4b7a9a-6afc-40b3-a0d7-a07d72dd48a1",
   "metadata": {},
   "outputs": [
    {
     "name": "stdout",
     "output_type": "stream",
     "text": [
      "Percentage of comments longer than 512 characters: 3.42%\n"
     ]
    }
   ],
   "source": [
    "# Calculate the number of comments longer than 100 characters\n",
    "comments_longer_than_100 = df_cleaned[df_cleaned['text'].str.len() > 512]\n",
    "\n",
    "# Calculate the percentage of comments longer than 100 characters\n",
    "percentage_longer_than_100 = (len(comments_longer_than_100) / len(df_cleaned)) * 100\n",
    "\n",
    "print(f\"Percentage of comments longer than 512 characters: {percentage_longer_than_100:.2f}%\")\n"
   ]
  }
 ],
 "metadata": {
  "kernelspec": {
   "display_name": "Python 3 (ipykernel)",
   "language": "python",
   "name": "python3"
  },
  "language_info": {
   "codemirror_mode": {
    "name": "ipython",
    "version": 3
   },
   "file_extension": ".py",
   "mimetype": "text/x-python",
   "name": "python",
   "nbconvert_exporter": "python",
   "pygments_lexer": "ipython3",
   "version": "3.11.7"
  }
 },
 "nbformat": 4,
 "nbformat_minor": 5
}
