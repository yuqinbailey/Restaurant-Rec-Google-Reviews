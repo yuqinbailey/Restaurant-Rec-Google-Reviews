{
 "cells": [
  {
   "cell_type": "code",
   "execution_count": 11,
   "id": "d93c6642-7a44-498e-a9b3-300316b8a349",
   "metadata": {},
   "outputs": [],
   "source": [
    "import pandas as pd"
   ]
  },
  {
   "cell_type": "markdown",
   "id": "ed62625b-6f2c-4a0f-b170-a6fe1e8a0f7c",
   "metadata": {},
   "source": [
    "## BERT"
   ]
  },
  {
   "cell_type": "code",
   "execution_count": 12,
   "id": "34bca31a-ce61-42eb-8978-b8dc910c4768",
   "metadata": {},
   "outputs": [],
   "source": [
    "import torch\n",
    "from transformers import BertModel, BertTokenizer"
   ]
  },
  {
   "cell_type": "code",
   "execution_count": 28,
   "id": "bda5ae76-d206-4698-af7e-e0479e9ff86d",
   "metadata": {},
   "outputs": [],
   "source": [
    "train_df = pd.read_csv('data/user_concat_text_10_train.csv', sep=';')\n",
    "test_df = pd.read_csv('data/user_concat_text_10_test.csv', sep=';')"
   ]
  },
  {
   "cell_type": "code",
   "execution_count": 15,
   "id": "f61ad63c-0a29-482e-ba37-a99ae3857a79",
   "metadata": {},
   "outputs": [],
   "source": [
    "tokenizer = BertTokenizer.from_pretrained('bert-base-uncased')\n",
    "model = BertModel.from_pretrained('bert-base-uncased')"
   ]
  },
  {
   "cell_type": "code",
   "execution_count": 16,
   "id": "f95abd4f-901b-4a1d-a39a-c032a271d964",
   "metadata": {},
   "outputs": [],
   "source": [
    "device = torch.device(\"cuda\" if torch.cuda.is_available() else \"cpu\")\n",
    "\n",
    "def generate_embedding(input_text):\n",
    "    # Tokenize input text\n",
    "    input_ids = tokenizer.encode_plus(input_text, \n",
    "                                      add_special_tokens=True, \n",
    "                                      return_tensors=\"pt\", \n",
    "                                      truncation=True,\n",
    "                                      max_length=512,\n",
    "                                      padding='max_length')  # Adjust max_length\n",
    "    # Move inputs to GPU\n",
    "    input_ids = input_ids.to(device)\n",
    "    with torch.no_grad():\n",
    "        # Move model to GPU\n",
    "        model.to(device)\n",
    "        outputs = model(**input_ids)  # Pass the tokenized inputs as keyword arguments\n",
    "        embeddings = outputs.last_hidden_state  # Extract the embeddings\n",
    "    return embeddings"
   ]
  },
  {
   "cell_type": "code",
   "execution_count": 9,
   "id": "5cb87282-18f0-4979-9b7f-a08bb05615bf",
   "metadata": {},
   "outputs": [
    {
     "data": {
      "text/plain": [
       "tensor([[[-0.0280, -0.0087,  0.3377,  ...,  0.0632,  0.6283,  0.0244],\n",
       "         [ 0.4234, -0.1273, -0.4582,  ..., -0.3916,  1.2081, -0.4115],\n",
       "         [ 1.0119,  0.3709,  0.6229,  ..., -0.0625,  0.3075, -0.4693],\n",
       "         ...,\n",
       "         [ 0.1157, -0.1634,  0.4915,  ...,  0.3386,  0.2893, -0.6721],\n",
       "         [ 0.5154,  0.0806,  0.5953,  ...,  0.3369,  0.1235, -0.3815],\n",
       "         [ 0.0180, -0.3310,  0.6013,  ...,  0.4107,  0.2971, -0.4481]]],\n",
       "       device='cuda:0')"
      ]
     },
     "execution_count": 9,
     "metadata": {},
     "output_type": "execute_result"
    }
   ],
   "source": [
    "generate_embedding('We loved this place and are sad that it is closed')"
   ]
  },
  {
   "cell_type": "code",
   "execution_count": 10,
   "id": "6b14fbb3-7585-4d62-83cf-aceb429268cd",
   "metadata": {},
   "outputs": [
    {
     "data": {
      "text/plain": [
       "device(type='cuda')"
      ]
     },
     "execution_count": 10,
     "metadata": {},
     "output_type": "execute_result"
    }
   ],
   "source": [
    "device"
   ]
  },
  {
   "cell_type": "code",
   "execution_count": 29,
   "id": "144a78de-bc57-4b25-868b-36d7b8b76ec0",
   "metadata": {},
   "outputs": [
    {
     "data": {
      "text/html": [
       "<div>\n",
       "<style scoped>\n",
       "    .dataframe tbody tr th:only-of-type {\n",
       "        vertical-align: middle;\n",
       "    }\n",
       "\n",
       "    .dataframe tbody tr th {\n",
       "        vertical-align: top;\n",
       "    }\n",
       "\n",
       "    .dataframe thead th {\n",
       "        text-align: right;\n",
       "    }\n",
       "</style>\n",
       "<table border=\"1\" class=\"dataframe\">\n",
       "  <thead>\n",
       "    <tr style=\"text-align: right;\">\n",
       "      <th></th>\n",
       "      <th>user_id</th>\n",
       "      <th>text</th>\n",
       "      <th>bert_embedding</th>\n",
       "    </tr>\n",
       "  </thead>\n",
       "  <tbody>\n",
       "    <tr>\n",
       "      <th>0</th>\n",
       "      <td>1.040754e+20</td>\n",
       "      <td>Good food, good people.\\nIt's McDonald's. My f...</td>\n",
       "      <td>[[-0.2526437, -0.4397369, 0.45666978, 0.095691...</td>\n",
       "    </tr>\n",
       "    <tr>\n",
       "      <th>1</th>\n",
       "      <td>1.029652e+20</td>\n",
       "      <td>Authentic Tuscany cuisine. Great atmosphere ex...</td>\n",
       "      <td>[[-0.22569536, 0.06812792, 0.31493652, 0.11971...</td>\n",
       "    </tr>\n",
       "    <tr>\n",
       "      <th>2</th>\n",
       "      <td>1.009114e+20</td>\n",
       "      <td>We love Nippon Grill and we were grateful to b...</td>\n",
       "      <td>[[0.22323227, -0.17345627, 0.2356291, -0.08483...</td>\n",
       "    </tr>\n",
       "    <tr>\n",
       "      <th>3</th>\n",
       "      <td>1.119671e+20</td>\n",
       "      <td>A must go if you're in downtown Lowell! Staff,...</td>\n",
       "      <td>[[-0.4919597, -0.27820456, 0.16277456, -0.4657...</td>\n",
       "    </tr>\n",
       "    <tr>\n",
       "      <th>4</th>\n",
       "      <td>1.136804e+20</td>\n",
       "      <td>Great freakin' Q at a reasonable price. Love t...</td>\n",
       "      <td>[[0.023719942, -0.09157198, 0.47261178, -0.045...</td>\n",
       "    </tr>\n",
       "  </tbody>\n",
       "</table>\n",
       "</div>"
      ],
      "text/plain": [
       "        user_id                                               text  \\\n",
       "0  1.040754e+20  Good food, good people.\\nIt's McDonald's. My f...   \n",
       "1  1.029652e+20  Authentic Tuscany cuisine. Great atmosphere ex...   \n",
       "2  1.009114e+20  We love Nippon Grill and we were grateful to b...   \n",
       "3  1.119671e+20  A must go if you're in downtown Lowell! Staff,...   \n",
       "4  1.136804e+20  Great freakin' Q at a reasonable price. Love t...   \n",
       "\n",
       "                                      bert_embedding  \n",
       "0  [[-0.2526437, -0.4397369, 0.45666978, 0.095691...  \n",
       "1  [[-0.22569536, 0.06812792, 0.31493652, 0.11971...  \n",
       "2  [[0.22323227, -0.17345627, 0.2356291, -0.08483...  \n",
       "3  [[-0.4919597, -0.27820456, 0.16277456, -0.4657...  \n",
       "4  [[0.023719942, -0.09157198, 0.47261178, -0.045...  "
      ]
     },
     "execution_count": 29,
     "metadata": {},
     "output_type": "execute_result"
    }
   ],
   "source": [
    "# Apply the generate_embedding function to the 'text' column\n",
    "train_df['bert_embedding'] = train_df['text'].apply(generate_embedding)\n",
    "\n",
    "# Move DataFrame to CPU for further processing if needed\n",
    "# train_df = train_df.cpu()\n",
    "train_df['bert_embedding'] = train_df['bert_embedding'].apply(lambda x: x.to('cpu').numpy() if isinstance(x, torch.Tensor) else x)\n",
    "train_df['bert_embedding'] = train_df['bert_embedding'].apply(lambda x: x.reshape(512, 768))\n",
    "\n",
    "train_df.head()"
   ]
  },
  {
   "cell_type": "code",
   "execution_count": 33,
   "id": "5083447e-e771-49dc-a5af-39062d854f08",
   "metadata": {},
   "outputs": [],
   "source": [
    "train_df.to_csv('data/user_concat_text_10_train.csv', sep=';', index=False)"
   ]
  },
  {
   "cell_type": "code",
   "execution_count": null,
   "id": "ffbf719c",
   "metadata": {},
   "outputs": [],
   "source": [
    "test_df['bert_embedding'] = test_df['text'].apply(generate_embedding)\n",
    "test_df['bert_embedding'] = test_df['bert_embedding'].apply(lambda x: x.to('cpu').numpy() if isinstance(x, torch.Tensor) else x)\n",
    "test_df['bert_embedding'] = test_df['bert_embedding'].apply(lambda x: x.reshape(512, 768))\n",
    "test_df.head()"
   ]
  },
  {
   "cell_type": "code",
   "execution_count": null,
   "id": "298d8bc1",
   "metadata": {},
   "outputs": [],
   "source": [
    "test_df.to_csv('data/user_concat_text_10_test.csv', sep=';', index=False)"
   ]
  },
  {
   "cell_type": "markdown",
   "id": "28ae1ee8",
   "metadata": {},
   "source": [
    "### Re-save Embeddings"
   ]
  },
  {
   "cell_type": "code",
   "execution_count": 14,
   "id": "ca1f8305",
   "metadata": {},
   "outputs": [],
   "source": [
    "import numpy as np\n",
    "\n",
    "RERUN_EMBED = False"
   ]
  },
  {
   "cell_type": "code",
   "execution_count": null,
   "id": "a6f754f0",
   "metadata": {},
   "outputs": [],
   "source": [
    "if RERUN_EMBED:\n",
    "    import torch\n",
    "    from transformers import BertModel, BertTokenizer\n",
    "\n",
    "    tokenizer = BertTokenizer.from_pretrained('bert-base-uncased')\n",
    "    model = BertModel.from_pretrained('bert-base-uncased')\n",
    "\n",
    "    device = torch.device(\"cuda\" if torch.cuda.is_available() else \"cpu\")\n",
    "\n",
    "    def generate_embedding(input_text):\n",
    "        # Tokenize input text\n",
    "        input_ids = tokenizer.encode_plus(input_text, \n",
    "                                        add_special_tokens=True, \n",
    "                                        return_tensors=\"pt\", \n",
    "                                        truncation=True,\n",
    "                                        max_length=512,\n",
    "                                        padding='max_length')  # Adjust max_length\n",
    "        input_ids = input_ids.to(device)\n",
    "        with torch.no_grad():\n",
    "            model.to(device)\n",
    "            outputs = model(**input_ids)  # Pass the tokenized inputs as keyword arguments\n",
    "            embeddings =outputs.last_hidden_state[:, 0, :].detach().cpu().numpy()\n",
    "        return embeddings\n",
    "    \n",
    "    train_df['bert_embedding'] = train_df['text'].apply(generate_embedding)\n",
    "    train_df['bert_embedding'] = train_df['bert_embedding'].apply(lambda x: x.reshape(-1,))\n",
    "    np.save('data/train_bert_embeddings.npy', np.array(train_df['bert_embedding'].to_list()))\n",
    "\n",
    "    test_df['bert_embedding'] = test_df['text'].apply(generate_embedding)\n",
    "    test_df['bert_embedding'] = test_df['bert_embedding'].apply(lambda x: x.reshape(-1,))\n",
    "    np.save('data1/test_bert_embeddings.npy', np.array(test_df['bert_embedding'].to_list()))"
   ]
  },
  {
   "cell_type": "code",
   "execution_count": null,
   "id": "455673be",
   "metadata": {},
   "outputs": [],
   "source": [
    "if RERUN_EMBED:\n",
    "    train_df_cleaned['bert_rating'] = train_df_cleaned.progress_apply(lambda row: get_similar_users_avg_rating(\n",
    "            train_df, df_filtered, row['user_id'], row['gmap_id'],\n",
    "            'data/train_bert_embeddings.npy'\n",
    "        ), axis=1)\n",
    "    # Replace None with pd.nan in 'bert_rating' column\n",
    "    train_df_cleaned['bert_rating'].replace({None: np.nan}, inplace=True)\n",
    "    train_df_cleaned.to_csv(\"data/train_df_cleaned.csv\", index=False)\n",
    "\n",
    "    test_df_cleaned['bert_rating'] = test_df_cleaned.progress_apply(lambda row: get_similar_users_avg_rating(\n",
    "            test_df, df_filtered, row['user_id'], row['gmap_id'],\n",
    "            'data/test_bert_embeddings.npy'\n",
    "        ), axis=1)\n",
    "    test_df_cleaned['bert_rating'].replace({None: np.nan}, inplace=True)\n",
    "    test_df_cleaned.to_csv(\"data/test_df_cleaned.csv\", index=False)"
   ]
  },
  {
   "cell_type": "markdown",
   "id": "06d7b5f3",
   "metadata": {},
   "source": [
    "### All Users w/o Split"
   ]
  },
  {
   "cell_type": "code",
   "execution_count": 16,
   "id": "69a3d8b7",
   "metadata": {},
   "outputs": [],
   "source": [
    "train_embeddings = np.load('data/train_bert_embeddings.npy')\n",
    "test_embeddings = np.load('data/test_bert_embeddings.npy')"
   ]
  },
  {
   "cell_type": "code",
   "execution_count": 18,
   "id": "9be7a945",
   "metadata": {},
   "outputs": [
    {
     "data": {
      "text/plain": [
       "(7689, 768)"
      ]
     },
     "execution_count": 18,
     "metadata": {},
     "output_type": "execute_result"
    }
   ],
   "source": [
    "train_embeddings.shape"
   ]
  },
  {
   "cell_type": "code",
   "execution_count": 29,
   "id": "030612b8",
   "metadata": {},
   "outputs": [],
   "source": [
    "train_df['bert_embedding'] = list(train_embeddings)\n",
    "test_df['bert_embedding'] = list(test_embeddings)"
   ]
  },
  {
   "cell_type": "code",
   "execution_count": 30,
   "id": "e6036f52",
   "metadata": {},
   "outputs": [
    {
     "data": {
      "text/plain": [
       "0"
      ]
     },
     "execution_count": 30,
     "metadata": {},
     "output_type": "execute_result"
    }
   ],
   "source": [
    "from utility import is_english, get_emoji_pattern, merge_df\n",
    "\n",
    "\n",
    "user_df = pd.read_csv('data/user_concat_text_10_20.csv', sep=';')\n",
    "\n",
    "emoji_pattern = get_emoji_pattern()\n",
    "\n",
    "has_emoji = user_df.text.apply(lambda x: bool(emoji_pattern.search(x)))\n",
    "sum(has_emoji)"
   ]
  },
  {
   "cell_type": "code",
   "execution_count": 31,
   "id": "b4d7811e",
   "metadata": {},
   "outputs": [
    {
     "data": {
      "text/html": [
       "<div>\n",
       "<style scoped>\n",
       "    .dataframe tbody tr th:only-of-type {\n",
       "        vertical-align: middle;\n",
       "    }\n",
       "\n",
       "    .dataframe tbody tr th {\n",
       "        vertical-align: top;\n",
       "    }\n",
       "\n",
       "    .dataframe thead th {\n",
       "        text-align: right;\n",
       "    }\n",
       "</style>\n",
       "<table border=\"1\" class=\"dataframe\">\n",
       "  <thead>\n",
       "    <tr style=\"text-align: right;\">\n",
       "      <th></th>\n",
       "      <th>user_id</th>\n",
       "      <th>text</th>\n",
       "      <th>bert_embedding</th>\n",
       "    </tr>\n",
       "  </thead>\n",
       "  <tbody>\n",
       "    <tr>\n",
       "      <th>0</th>\n",
       "      <td>1.000018e+20</td>\n",
       "      <td>Great food. The service was a little slow. It ...</td>\n",
       "      <td>[-0.22827141, -0.35052228, 0.5036365, 0.028028...</td>\n",
       "    </tr>\n",
       "    <tr>\n",
       "      <th>1</th>\n",
       "      <td>1.000020e+20</td>\n",
       "      <td>I like the variety of burgers they offer. But ...</td>\n",
       "      <td>[0.058884684, -0.24475953, 0.41342327, 0.30726...</td>\n",
       "    </tr>\n",
       "    <tr>\n",
       "      <th>2</th>\n",
       "      <td>1.000027e+20</td>\n",
       "      <td>Margarita was yummy. Food not great.\\nCrazy No...</td>\n",
       "      <td>[-0.42733175, -0.3913462, 0.47473076, -0.01278...</td>\n",
       "    </tr>\n",
       "    <tr>\n",
       "      <th>3</th>\n",
       "      <td>1.000030e+20</td>\n",
       "      <td>Very good food a little pricey but worth every...</td>\n",
       "      <td>[-0.15724368, 0.17280133, 0.25607976, -0.15023...</td>\n",
       "    </tr>\n",
       "    <tr>\n",
       "      <th>4</th>\n",
       "      <td>1.000057e+20</td>\n",
       "      <td>Delightful and charming place to dine outside....</td>\n",
       "      <td>[-0.31003457, -0.2727745, 0.6977278, -0.290122...</td>\n",
       "    </tr>\n",
       "    <tr>\n",
       "      <th>...</th>\n",
       "      <td>...</td>\n",
       "      <td>...</td>\n",
       "      <td>...</td>\n",
       "    </tr>\n",
       "    <tr>\n",
       "      <th>10980</th>\n",
       "      <td>1.184382e+20</td>\n",
       "      <td>Nice little place in Sudbury.Good prices and g...</td>\n",
       "      <td>[-0.1657204, 0.392895, 0.34524575, 0.106500395...</td>\n",
       "    </tr>\n",
       "    <tr>\n",
       "      <th>10981</th>\n",
       "      <td>1.184401e+20</td>\n",
       "      <td>Over the phone order takes forever.\\nReception...</td>\n",
       "      <td>[0.048416566, -0.54763174, 0.5351807, 0.099497...</td>\n",
       "    </tr>\n",
       "    <tr>\n",
       "      <th>10982</th>\n",
       "      <td>1.184433e+20</td>\n",
       "      <td>Was great food and service\\nA little pricey fo...</td>\n",
       "      <td>[0.032440454, 0.17696327, 0.67216915, -0.17104...</td>\n",
       "    </tr>\n",
       "    <tr>\n",
       "      <th>10983</th>\n",
       "      <td>1.184449e+20</td>\n",
       "      <td>Only came because we had a gift card. Reminded...</td>\n",
       "      <td>[-0.05477693, -0.18611905, 0.33248475, -0.1868...</td>\n",
       "    </tr>\n",
       "    <tr>\n",
       "      <th>10984</th>\n",
       "      <td>1.184461e+20</td>\n",
       "      <td>Karen is the best waitress. Food is excellent\\...</td>\n",
       "      <td>[-0.20061328, -0.35645667, 0.69241107, -0.7406...</td>\n",
       "    </tr>\n",
       "  </tbody>\n",
       "</table>\n",
       "<p>10985 rows × 3 columns</p>\n",
       "</div>"
      ],
      "text/plain": [
       "            user_id                                               text  \\\n",
       "0      1.000018e+20  Great food. The service was a little slow. It ...   \n",
       "1      1.000020e+20  I like the variety of burgers they offer. But ...   \n",
       "2      1.000027e+20  Margarita was yummy. Food not great.\\nCrazy No...   \n",
       "3      1.000030e+20  Very good food a little pricey but worth every...   \n",
       "4      1.000057e+20  Delightful and charming place to dine outside....   \n",
       "...             ...                                                ...   \n",
       "10980  1.184382e+20  Nice little place in Sudbury.Good prices and g...   \n",
       "10981  1.184401e+20  Over the phone order takes forever.\\nReception...   \n",
       "10982  1.184433e+20  Was great food and service\\nA little pricey fo...   \n",
       "10983  1.184449e+20  Only came because we had a gift card. Reminded...   \n",
       "10984  1.184461e+20  Karen is the best waitress. Food is excellent\\...   \n",
       "\n",
       "                                          bert_embedding  \n",
       "0      [-0.22827141, -0.35052228, 0.5036365, 0.028028...  \n",
       "1      [0.058884684, -0.24475953, 0.41342327, 0.30726...  \n",
       "2      [-0.42733175, -0.3913462, 0.47473076, -0.01278...  \n",
       "3      [-0.15724368, 0.17280133, 0.25607976, -0.15023...  \n",
       "4      [-0.31003457, -0.2727745, 0.6977278, -0.290122...  \n",
       "...                                                  ...  \n",
       "10980  [-0.1657204, 0.392895, 0.34524575, 0.106500395...  \n",
       "10981  [0.048416566, -0.54763174, 0.5351807, 0.099497...  \n",
       "10982  [0.032440454, 0.17696327, 0.67216915, -0.17104...  \n",
       "10983  [-0.05477693, -0.18611905, 0.33248475, -0.1868...  \n",
       "10984  [-0.20061328, -0.35645667, 0.69241107, -0.7406...  \n",
       "\n",
       "[10985 rows x 3 columns]"
      ]
     },
     "execution_count": 31,
     "metadata": {},
     "output_type": "execute_result"
    }
   ],
   "source": [
    "combined_df = pd.concat([train_df, test_df], ignore_index=True)\n",
    "\n",
    "user_df = user_df.merge(combined_df[['user_id', 'bert_embedding']], on='user_id', how='left')\n",
    "user_df"
   ]
  },
  {
   "cell_type": "code",
   "execution_count": 33,
   "id": "2816430c",
   "metadata": {},
   "outputs": [],
   "source": [
    "user_df.to_csv('data/user_concat_text_10_20_bert.csv', sep=';', index=False)"
   ]
  },
  {
   "cell_type": "markdown",
   "id": "608d1087",
   "metadata": {},
   "source": [
    "## Find Similar Users"
   ]
  },
  {
   "cell_type": "code",
   "execution_count": 5,
   "id": "328f1123",
   "metadata": {},
   "outputs": [],
   "source": [
    "import numpy as np\n",
    "from sklearn.model_selection import train_test_split\n",
    "from utility import get_similar_users_avg_rating, merge_df"
   ]
  },
  {
   "cell_type": "code",
   "execution_count": 6,
   "id": "812a8b56",
   "metadata": {},
   "outputs": [],
   "source": [
    "df_filtered = pd.read_csv(\"data/english_reviews.csv\")"
   ]
  },
  {
   "cell_type": "code",
   "execution_count": null,
   "id": "18b288a7",
   "metadata": {},
   "outputs": [],
   "source": [
    "# Count the number of comments per gmap_id\n",
    "comment_counts = df_filtered['gmap_id'].value_counts().reset_index()\n",
    "comment_counts.columns = ['gmap_id', 'comment_count']"
   ]
  },
  {
   "cell_type": "code",
   "execution_count": 9,
   "id": "aaf37d39",
   "metadata": {},
   "outputs": [],
   "source": [
    "df_filtered = df_filtered.merge(comment_counts, on='gmap_id', how='left')\n",
    "df_filtered.to_csv(\"data/english_reviews.csv\", index=False)"
   ]
  },
  {
   "cell_type": "code",
   "execution_count": 6,
   "id": "bb900601",
   "metadata": {},
   "outputs": [],
   "source": [
    "get_similar_users_avg_rating(train_df, df_filtered, '1.1803866805367366e+20','0x89e3706a62ba248f:0xdd2878d145d53400')"
   ]
  },
  {
   "cell_type": "code",
   "execution_count": 7,
   "id": "f66e0a1f",
   "metadata": {},
   "outputs": [
    {
     "name": "stderr",
     "output_type": "stream",
     "text": [
      "/Users/yuqinbailey/ds2/Restaurant-Rec-Google-Reviews/utility.py:69: DtypeWarning: Columns (19) have mixed types. Specify dtype option on import or set low_memory=False.\n",
      "  df = pd.read_csv(\"data/data_ma.csv\")\n"
     ]
    }
   ],
   "source": [
    "df_cleaned = merge_df(df_filtered)"
   ]
  },
  {
   "cell_type": "code",
   "execution_count": 11,
   "id": "fadd65c6",
   "metadata": {},
   "outputs": [
    {
     "data": {
      "text/plain": [
       "user_id           float64\n",
       "gmap_id            object\n",
       "text               object\n",
       "rating              int64\n",
       "comment_count       int64\n",
       "name_y             object\n",
       "latitude          float64\n",
       "longitude         float64\n",
       "num_of_reviews      int64\n",
       "price              object\n",
       "avg_rating        float64\n",
       "dtype: object"
      ]
     },
     "execution_count": 11,
     "metadata": {},
     "output_type": "execute_result"
    }
   ],
   "source": [
    "df_cleaned.dtypes"
   ]
  },
  {
   "cell_type": "code",
   "execution_count": 12,
   "id": "610a0031",
   "metadata": {},
   "outputs": [],
   "source": [
    "# train_df_cleaned, test_df_cleaned = train_test_split(df_cleaned, \n",
    "#                                                     test_size=0.3, random_state=209)"
   ]
  },
  {
   "cell_type": "code",
   "execution_count": 9,
   "id": "10ffed61",
   "metadata": {},
   "outputs": [],
   "source": [
    "from tqdm import tqdm\n",
    "tqdm.pandas(desc=\"Computing bert_ratings\")"
   ]
  },
  {
   "cell_type": "code",
   "execution_count": 8,
   "id": "b0408071",
   "metadata": {},
   "outputs": [],
   "source": [
    "train_df_cleaned = df_cleaned.copy(deep=True)\n",
    "test_df_cleaned = df_cleaned.copy(deep=True)"
   ]
  },
  {
   "cell_type": "code",
   "execution_count": 10,
   "id": "6c3b4629",
   "metadata": {},
   "outputs": [
    {
     "name": "stderr",
     "output_type": "stream",
     "text": [
      "Computing bert_ratings: 100%|██████████| 525203/525203 [2:40:36<00:00, 54.50it/s]  \n",
      "/var/folders/wh/3zjhqx7s7d747p205gcyh2480000gn/T/ipykernel_16430/1109567959.py:5: FutureWarning: A value is trying to be set on a copy of a DataFrame or Series through chained assignment using an inplace method.\n",
      "The behavior will change in pandas 3.0. This inplace method will never work because the intermediate object on which we are setting values always behaves as a copy.\n",
      "\n",
      "For example, when doing 'df[col].method(value, inplace=True)', try using 'df.method({col: value}, inplace=True)' or df[col] = df[col].method(value) instead, to perform the operation inplace on the original object.\n",
      "\n",
      "\n",
      "  test_df_cleaned['bert_rating'].replace({None: np.nan}, inplace=True)\n",
      "/var/folders/wh/3zjhqx7s7d747p205gcyh2480000gn/T/ipykernel_16430/1109567959.py:5: FutureWarning: Downcasting behavior in `replace` is deprecated and will be removed in a future version. To retain the old behavior, explicitly call `result.infer_objects(copy=False)`. To opt-in to the future behavior, set `pd.set_option('future.no_silent_downcasting', True)`\n",
      "  test_df_cleaned['bert_rating'].replace({None: np.nan}, inplace=True)\n"
     ]
    }
   ],
   "source": [
    "test_df_cleaned['bert_rating'] = df_cleaned.progress_apply(lambda row: get_similar_users_avg_rating(\n",
    "    test_df, df_filtered, row['user_id'], row['gmap_id']), axis=1)\n",
    "\n",
    "# Replace None with pd.nan in 'bert_rating' column\n",
    "test_df_cleaned['bert_rating'].replace({None: np.nan}, inplace=True)\n",
    "\n",
    "test_df_cleaned.to_csv(\"data/test_df_cleaned.csv\", index=False)"
   ]
  },
  {
   "cell_type": "code",
   "execution_count": 11,
   "id": "bbfd10f8",
   "metadata": {},
   "outputs": [
    {
     "name": "stderr",
     "output_type": "stream",
     "text": [
      "Computing bert_ratings: 100%|██████████| 525203/525203 [2:38:52<00:00, 55.10it/s]  \n",
      "/var/folders/wh/3zjhqx7s7d747p205gcyh2480000gn/T/ipykernel_16430/494381583.py:5: FutureWarning: A value is trying to be set on a copy of a DataFrame or Series through chained assignment using an inplace method.\n",
      "The behavior will change in pandas 3.0. This inplace method will never work because the intermediate object on which we are setting values always behaves as a copy.\n",
      "\n",
      "For example, when doing 'df[col].method(value, inplace=True)', try using 'df.method({col: value}, inplace=True)' or df[col] = df[col].method(value) instead, to perform the operation inplace on the original object.\n",
      "\n",
      "\n",
      "  train_df_cleaned['bert_rating'].replace({None: np.nan}, inplace=True)\n",
      "/var/folders/wh/3zjhqx7s7d747p205gcyh2480000gn/T/ipykernel_16430/494381583.py:5: FutureWarning: Downcasting behavior in `replace` is deprecated and will be removed in a future version. To retain the old behavior, explicitly call `result.infer_objects(copy=False)`. To opt-in to the future behavior, set `pd.set_option('future.no_silent_downcasting', True)`\n",
      "  train_df_cleaned['bert_rating'].replace({None: np.nan}, inplace=True)\n"
     ]
    }
   ],
   "source": [
    "train_df_cleaned['bert_rating'] = df_cleaned.progress_apply(lambda row: get_similar_users_avg_rating(\n",
    "    train_df, df_filtered, row['user_id'], row['gmap_id']), axis=1)\n",
    "\n",
    "# Replace None with pd.nan in 'bert_rating' column\n",
    "train_df_cleaned['bert_rating'].replace({None: np.nan}, inplace=True)\n",
    "\n",
    "train_df_cleaned.to_csv(\"data/train_df_cleaned.csv\", index=False)"
   ]
  },
  {
   "cell_type": "markdown",
   "id": "aa4906e0-39c5-44c8-9c04-1d9a202a4d81",
   "metadata": {
    "jp-MarkdownHeadingCollapsed": true
   },
   "source": [
    "## df_cleaned"
   ]
  },
  {
   "cell_type": "markdown",
   "id": "6ed50417-33e6-408d-8199-72cbb3541cd6",
   "metadata": {},
   "source": [
    "**Data:** `df_cleaned`\n",
    "* English\n",
    "* emoji removed\n",
    "* User 10-core\n",
    "* Restaurant 20-core\n",
    "* No duplicates\n",
    "Count: 525,192"
   ]
  },
  {
   "cell_type": "code",
   "execution_count": 7,
   "id": "d2cb7c83-7c21-4310-b27b-40dfb36608b0",
   "metadata": {},
   "outputs": [
    {
     "data": {
      "text/html": [
       "<div>\n",
       "<style scoped>\n",
       "    .dataframe tbody tr th:only-of-type {\n",
       "        vertical-align: middle;\n",
       "    }\n",
       "\n",
       "    .dataframe tbody tr th {\n",
       "        vertical-align: top;\n",
       "    }\n",
       "\n",
       "    .dataframe thead th {\n",
       "        text-align: right;\n",
       "    }\n",
       "</style>\n",
       "<table border=\"1\" class=\"dataframe\">\n",
       "  <thead>\n",
       "    <tr style=\"text-align: right;\">\n",
       "      <th></th>\n",
       "      <th>user_id</th>\n",
       "      <th>gmap_id</th>\n",
       "      <th>text</th>\n",
       "      <th>rating</th>\n",
       "      <th>comment_count</th>\n",
       "      <th>name_y</th>\n",
       "      <th>latitude</th>\n",
       "      <th>longitude</th>\n",
       "      <th>num_of_reviews</th>\n",
       "      <th>price</th>\n",
       "      <th>avg_rating</th>\n",
       "    </tr>\n",
       "  </thead>\n",
       "  <tbody>\n",
       "    <tr>\n",
       "      <th>0</th>\n",
       "      <td>1.110454e+20</td>\n",
       "      <td>0x89e48fa18e6c57d5:0x86d75c4954db2a0a</td>\n",
       "      <td>Great service. Never have to wait long. Habe n...</td>\n",
       "      <td>5</td>\n",
       "      <td>22</td>\n",
       "      <td>Edi's Pizzeria</td>\n",
       "      <td>41.972252</td>\n",
       "      <td>-71.006985</td>\n",
       "      <td>88</td>\n",
       "      <td>NaN</td>\n",
       "      <td>4.5</td>\n",
       "    </tr>\n",
       "    <tr>\n",
       "      <th>1</th>\n",
       "      <td>1.080412e+20</td>\n",
       "      <td>0x89e48fa18e6c57d5:0x86d75c4954db2a0a</td>\n",
       "      <td>They use to be a really  good local sub shop. ...</td>\n",
       "      <td>2</td>\n",
       "      <td>22</td>\n",
       "      <td>Edi's Pizzeria</td>\n",
       "      <td>41.972252</td>\n",
       "      <td>-71.006985</td>\n",
       "      <td>88</td>\n",
       "      <td>NaN</td>\n",
       "      <td>4.5</td>\n",
       "    </tr>\n",
       "    <tr>\n",
       "      <th>2</th>\n",
       "      <td>1.035734e+20</td>\n",
       "      <td>0x89e48fa18e6c57d5:0x86d75c4954db2a0a</td>\n",
       "      <td>Great  place. Everything  so far has been supe...</td>\n",
       "      <td>5</td>\n",
       "      <td>22</td>\n",
       "      <td>Edi's Pizzeria</td>\n",
       "      <td>41.972252</td>\n",
       "      <td>-71.006985</td>\n",
       "      <td>88</td>\n",
       "      <td>NaN</td>\n",
       "      <td>4.5</td>\n",
       "    </tr>\n",
       "    <tr>\n",
       "      <th>3</th>\n",
       "      <td>1.156708e+20</td>\n",
       "      <td>0x89e48fa18e6c57d5:0x86d75c4954db2a0a</td>\n",
       "      <td>I had heard positive reviews of this place so ...</td>\n",
       "      <td>5</td>\n",
       "      <td>22</td>\n",
       "      <td>Edi's Pizzeria</td>\n",
       "      <td>41.972252</td>\n",
       "      <td>-71.006985</td>\n",
       "      <td>88</td>\n",
       "      <td>NaN</td>\n",
       "      <td>4.5</td>\n",
       "    </tr>\n",
       "    <tr>\n",
       "      <th>4</th>\n",
       "      <td>1.013981e+20</td>\n",
       "      <td>0x89e48fa18e6c57d5:0x86d75c4954db2a0a</td>\n",
       "      <td>The food is decent sub shop food. My issue is ...</td>\n",
       "      <td>1</td>\n",
       "      <td>22</td>\n",
       "      <td>Edi's Pizzeria</td>\n",
       "      <td>41.972252</td>\n",
       "      <td>-71.006985</td>\n",
       "      <td>88</td>\n",
       "      <td>NaN</td>\n",
       "      <td>4.5</td>\n",
       "    </tr>\n",
       "    <tr>\n",
       "      <th>...</th>\n",
       "      <td>...</td>\n",
       "      <td>...</td>\n",
       "      <td>...</td>\n",
       "      <td>...</td>\n",
       "      <td>...</td>\n",
       "      <td>...</td>\n",
       "      <td>...</td>\n",
       "      <td>...</td>\n",
       "      <td>...</td>\n",
       "      <td>...</td>\n",
       "      <td>...</td>\n",
       "    </tr>\n",
       "    <tr>\n",
       "      <th>525198</th>\n",
       "      <td>1.158547e+20</td>\n",
       "      <td>0x89e5290944643609:0x6b5cbf7224fe52bc</td>\n",
       "      <td>Has the best shrimp</td>\n",
       "      <td>5</td>\n",
       "      <td>86</td>\n",
       "      <td>Martha's Vineyard Chowder Company</td>\n",
       "      <td>41.457841</td>\n",
       "      <td>-70.557289</td>\n",
       "      <td>445</td>\n",
       "      <td>$$</td>\n",
       "      <td>4.4</td>\n",
       "    </tr>\n",
       "    <tr>\n",
       "      <th>525199</th>\n",
       "      <td>1.017955e+20</td>\n",
       "      <td>0x89e5290944643609:0x6b5cbf7224fe52bc</td>\n",
       "      <td>Good food, sword fish is the best</td>\n",
       "      <td>4</td>\n",
       "      <td>86</td>\n",
       "      <td>Martha's Vineyard Chowder Company</td>\n",
       "      <td>41.457841</td>\n",
       "      <td>-70.557289</td>\n",
       "      <td>445</td>\n",
       "      <td>$$</td>\n",
       "      <td>4.4</td>\n",
       "    </tr>\n",
       "    <tr>\n",
       "      <th>525200</th>\n",
       "      <td>1.101792e+20</td>\n",
       "      <td>0x89e5290944643609:0x6b5cbf7224fe52bc</td>\n",
       "      <td>The chowder actually is exceptionally delicious.</td>\n",
       "      <td>5</td>\n",
       "      <td>86</td>\n",
       "      <td>Martha's Vineyard Chowder Company</td>\n",
       "      <td>41.457841</td>\n",
       "      <td>-70.557289</td>\n",
       "      <td>445</td>\n",
       "      <td>$$</td>\n",
       "      <td>4.4</td>\n",
       "    </tr>\n",
       "    <tr>\n",
       "      <th>525201</th>\n",
       "      <td>1.052239e+20</td>\n",
       "      <td>0x89e5290944643609:0x6b5cbf7224fe52bc</td>\n",
       "      <td>(Translated by Google) Nice service, great ser...</td>\n",
       "      <td>5</td>\n",
       "      <td>86</td>\n",
       "      <td>Martha's Vineyard Chowder Company</td>\n",
       "      <td>41.457841</td>\n",
       "      <td>-70.557289</td>\n",
       "      <td>445</td>\n",
       "      <td>$$</td>\n",
       "      <td>4.4</td>\n",
       "    </tr>\n",
       "    <tr>\n",
       "      <th>525202</th>\n",
       "      <td>1.056386e+20</td>\n",
       "      <td>0x89e5290944643609:0x6b5cbf7224fe52bc</td>\n",
       "      <td>(Translated by Google) Unbelievable chowda !!!...</td>\n",
       "      <td>5</td>\n",
       "      <td>86</td>\n",
       "      <td>Martha's Vineyard Chowder Company</td>\n",
       "      <td>41.457841</td>\n",
       "      <td>-70.557289</td>\n",
       "      <td>445</td>\n",
       "      <td>$$</td>\n",
       "      <td>4.4</td>\n",
       "    </tr>\n",
       "  </tbody>\n",
       "</table>\n",
       "<p>525198 rows × 11 columns</p>\n",
       "</div>"
      ],
      "text/plain": [
       "             user_id                                gmap_id  \\\n",
       "0       1.110454e+20  0x89e48fa18e6c57d5:0x86d75c4954db2a0a   \n",
       "1       1.080412e+20  0x89e48fa18e6c57d5:0x86d75c4954db2a0a   \n",
       "2       1.035734e+20  0x89e48fa18e6c57d5:0x86d75c4954db2a0a   \n",
       "3       1.156708e+20  0x89e48fa18e6c57d5:0x86d75c4954db2a0a   \n",
       "4       1.013981e+20  0x89e48fa18e6c57d5:0x86d75c4954db2a0a   \n",
       "...              ...                                    ...   \n",
       "525198  1.158547e+20  0x89e5290944643609:0x6b5cbf7224fe52bc   \n",
       "525199  1.017955e+20  0x89e5290944643609:0x6b5cbf7224fe52bc   \n",
       "525200  1.101792e+20  0x89e5290944643609:0x6b5cbf7224fe52bc   \n",
       "525201  1.052239e+20  0x89e5290944643609:0x6b5cbf7224fe52bc   \n",
       "525202  1.056386e+20  0x89e5290944643609:0x6b5cbf7224fe52bc   \n",
       "\n",
       "                                                     text  rating  \\\n",
       "0       Great service. Never have to wait long. Habe n...       5   \n",
       "1       They use to be a really  good local sub shop. ...       2   \n",
       "2       Great  place. Everything  so far has been supe...       5   \n",
       "3       I had heard positive reviews of this place so ...       5   \n",
       "4       The food is decent sub shop food. My issue is ...       1   \n",
       "...                                                   ...     ...   \n",
       "525198                                Has the best shrimp       5   \n",
       "525199                  Good food, sword fish is the best       4   \n",
       "525200   The chowder actually is exceptionally delicious.       5   \n",
       "525201  (Translated by Google) Nice service, great ser...       5   \n",
       "525202  (Translated by Google) Unbelievable chowda !!!...       5   \n",
       "\n",
       "        comment_count                             name_y   latitude  \\\n",
       "0                  22                     Edi's Pizzeria  41.972252   \n",
       "1                  22                     Edi's Pizzeria  41.972252   \n",
       "2                  22                     Edi's Pizzeria  41.972252   \n",
       "3                  22                     Edi's Pizzeria  41.972252   \n",
       "4                  22                     Edi's Pizzeria  41.972252   \n",
       "...               ...                                ...        ...   \n",
       "525198             86  Martha's Vineyard Chowder Company  41.457841   \n",
       "525199             86  Martha's Vineyard Chowder Company  41.457841   \n",
       "525200             86  Martha's Vineyard Chowder Company  41.457841   \n",
       "525201             86  Martha's Vineyard Chowder Company  41.457841   \n",
       "525202             86  Martha's Vineyard Chowder Company  41.457841   \n",
       "\n",
       "        longitude  num_of_reviews price  avg_rating  \n",
       "0      -71.006985              88   NaN         4.5  \n",
       "1      -71.006985              88   NaN         4.5  \n",
       "2      -71.006985              88   NaN         4.5  \n",
       "3      -71.006985              88   NaN         4.5  \n",
       "4      -71.006985              88   NaN         4.5  \n",
       "...           ...             ...   ...         ...  \n",
       "525198 -70.557289             445    $$         4.4  \n",
       "525199 -70.557289             445    $$         4.4  \n",
       "525200 -70.557289             445    $$         4.4  \n",
       "525201 -70.557289             445    $$         4.4  \n",
       "525202 -70.557289             445    $$         4.4  \n",
       "\n",
       "[525198 rows x 11 columns]"
      ]
     },
     "execution_count": 7,
     "metadata": {},
     "output_type": "execute_result"
    }
   ],
   "source": [
    "df_cleaned = pd.read_csv(\"data/df_cleaned.csv\")\n",
    "\n",
    "df_cleaned.drop_duplicates(inplace=False)\n"
   ]
  },
  {
   "cell_type": "code",
   "execution_count": 8,
   "id": "6f96d2b9-fb27-461e-8fe8-9712c7b0033c",
   "metadata": {},
   "outputs": [
    {
     "data": {
      "image/png": "[encoded data removed]",
      "text/plain": [
       "<Figure size 1000x600 with 1 Axes>"
      ]
     },
     "metadata": {},
     "output_type": "display_data"
    }
   ],
   "source": [
    "import matplotlib.pyplot as plt\n",
    "\n",
    "# Calculate the length of each text\n",
    "text_lengths = df_cleaned['text'].apply(len)\n",
    "\n",
    "# Plot the histogram\n",
    "plt.figure(figsize=(10, 6))\n",
    "plt.hist(text_lengths, bins=50, color='skyblue', edgecolor='black')\n",
    "plt.title('Length Distribution of Text')\n",
    "plt.xlabel('Text Length')\n",
    "plt.ylabel('Frequency')\n",
    "plt.grid(True)\n",
    "plt.show()"
   ]
  },
  {
   "cell_type": "code",
   "execution_count": 45,
   "id": "ac4b7a9a-6afc-40b3-a0d7-a07d72dd48a1",
   "metadata": {},
   "outputs": [
    {
     "name": "stdout",
     "output_type": "stream",
     "text": [
      "Percentage of comments longer than 512 characters: 3.42%\n"
     ]
    }
   ],
   "source": [
    "# Calculate the number of comments longer than 100 characters\n",
    "comments_longer_than_100 = df_cleaned[df_cleaned['text'].str.len() > 512]\n",
    "\n",
    "# Calculate the percentage of comments longer than 100 characters\n",
    "percentage_longer_than_100 = (len(comments_longer_than_100) / len(df_cleaned)) * 100\n",
    "\n",
    "print(f\"Percentage of comments longer than 512 characters: {percentage_longer_than_100:.2f}%\")\n"
   ]
  }
 ],
 "metadata": {
  "kernelspec": {
   "display_name": "Python 3 (ipykernel)",
   "language": "python",
   "name": "python3"
  },
  "language_info": {
   "codemirror_mode": {
    "name": "ipython",
    "version": 3
   },
   "file_extension": ".py",
   "mimetype": "text/x-python",
   "name": "python",
   "nbconvert_exporter": "python",
   "pygments_lexer": "ipython3",
   "version": "3.11.7"
  }
 },
 "nbformat": 4,
 "nbformat_minor": 5
}
