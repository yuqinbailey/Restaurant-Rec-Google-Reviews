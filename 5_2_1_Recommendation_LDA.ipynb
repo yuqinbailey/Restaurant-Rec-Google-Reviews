{
  "cells": [
    {
      "cell_type": "code",
      "execution_count": 1,
      "metadata": {
        "colab": {
          "base_uri": "https://localhost:8080/"
        },
        "id": "rqOruGdxOzqJ",
        "outputId": "49afe585-b0da-4264-cd6a-de79dad12fdf"
      },
      "outputs": [
        {
          "name": "stdout",
          "output_type": "stream",
          "text": [
            "Mounted at /content/drive\n"
          ]
        }
      ],
      "source": [
        "from google.colab import drive\n",
        "drive.mount('/content/drive')"
      ]
    },
    {
      "cell_type": "code",
      "execution_count": 4,
      "metadata": {
        "colab": {
          "base_uri": "https://localhost:8080/"
        },
        "id": "wnZjrXgOO1fS",
        "outputId": "d71c1fe9-1f42-45c8-b7f5-37b362fdc0c3"
      },
      "outputs": [
        {
          "name": "stdout",
          "output_type": "stream",
          "text": [
            "/content/drive/My Drive/cs109_cassie\n"
          ]
        }
      ],
      "source": [
        "%cd '/content/drive/My Drive/cs109_cassie'"
      ]
    },
    {
      "cell_type": "markdown",
      "metadata": {
        "id": "oehcHbR9O8bk"
      },
      "source": [
        "# Get Similiar Users Ratings and Map Back to Dataframe"
      ]
    },
    {
      "cell_type": "code",
      "execution_count": 1,
      "metadata": {
        "id": "Z69vCPFpRAxy"
      },
      "outputs": [],
      "source": [
        "import json\n",
        "import pandas as pd\n",
        "import matplotlib.pyplot as plt\n",
        "import seaborn as sns\n",
        "from wordcloud import WordCloud\n",
        "from sklearn.model_selection import train_test_split\n",
        "import re\n",
        "import numpy as np\n",
        "import ast"
      ]
    },
    {
      "cell_type": "code",
      "execution_count": 2,
      "metadata": {
        "id": "iVk4bRCnRXri"
      },
      "outputs": [],
      "source": [
        "cleaned_df = pd.read_csv('data/cleaned_df.csv')\n",
        "user_lda_df = pd.read_csv('data/user_reviews_lda_df.csv')"
      ]
    },
    {
      "cell_type": "code",
      "execution_count": 3,
      "metadata": {
        "colab": {
          "base_uri": "https://localhost:8080/",
          "height": 206
        },
        "id": "Hwl53nTwUyy3",
        "outputId": "7d0b31de-a3af-4249-bfe1-7bc94dfacced"
      },
      "outputs": [
        {
          "data": {
            "text/html": [
              "<div>\n",
              "<style scoped>\n",
              "    .dataframe tbody tr th:only-of-type {\n",
              "        vertical-align: middle;\n",
              "    }\n",
              "\n",
              "    .dataframe tbody tr th {\n",
              "        vertical-align: top;\n",
              "    }\n",
              "\n",
              "    .dataframe thead th {\n",
              "        text-align: right;\n",
              "    }\n",
              "</style>\n",
              "<table border=\"1\" class=\"dataframe\">\n",
              "  <thead>\n",
              "    <tr style=\"text-align: right;\">\n",
              "      <th></th>\n",
              "      <th>user_id</th>\n",
              "      <th>text</th>\n",
              "      <th>processed_text</th>\n",
              "      <th>topic_vector</th>\n",
              "    </tr>\n",
              "  </thead>\n",
              "  <tbody>\n",
              "    <tr>\n",
              "      <th>0</th>\n",
              "      <td>1.000018e+20</td>\n",
              "      <td>Great food. The service was a little slow. It ...</td>\n",
              "      <td>great food service little slow nice clean food...</td>\n",
              "      <td>[0.009604099033542457, 0.009604097040164497, 0...</td>\n",
              "    </tr>\n",
              "    <tr>\n",
              "      <th>1</th>\n",
              "      <td>1.000020e+20</td>\n",
              "      <td>We had a large party but they accommodated us ...</td>\n",
              "      <td>large party accommodated could watch patriot g...</td>\n",
              "      <td>[0.9332929748068605, 0.004764784389977953, 0.0...</td>\n",
              "    </tr>\n",
              "    <tr>\n",
              "      <th>2</th>\n",
              "      <td>1.000027e+20</td>\n",
              "      <td>Margarita was yummy. Food not great.\\nWe love ...</td>\n",
              "      <td>margarita yummy food great love tasty burger w...</td>\n",
              "      <td>[0.0068352206810172785, 0.00683521500500783, 0...</td>\n",
              "    </tr>\n",
              "    <tr>\n",
              "      <th>3</th>\n",
              "      <td>1.000030e+20</td>\n",
              "      <td>I eat there when I have a chance to do it I ha...</td>\n",
              "      <td>eat chance going since kid go area love food w...</td>\n",
              "      <td>[0.011245047569970199, 0.011245043923995425, 0...</td>\n",
              "    </tr>\n",
              "    <tr>\n",
              "      <th>4</th>\n",
              "      <td>1.000057e+20</td>\n",
              "      <td>Drinks desert and Jarvis tops off a good eveni...</td>\n",
              "      <td>drink desert jarvis top good evening tewkesbur...</td>\n",
              "      <td>[0.005380025279412345, 0.005380015639471415, 0...</td>\n",
              "    </tr>\n",
              "  </tbody>\n",
              "</table>\n",
              "</div>"
            ],
            "text/plain": [
              "        user_id                                               text  \\\n",
              "0  1.000018e+20  Great food. The service was a little slow. It ...   \n",
              "1  1.000020e+20  We had a large party but they accommodated us ...   \n",
              "2  1.000027e+20  Margarita was yummy. Food not great.\\nWe love ...   \n",
              "3  1.000030e+20  I eat there when I have a chance to do it I ha...   \n",
              "4  1.000057e+20  Drinks desert and Jarvis tops off a good eveni...   \n",
              "\n",
              "                                      processed_text  \\\n",
              "0  great food service little slow nice clean food...   \n",
              "1  large party accommodated could watch patriot g...   \n",
              "2  margarita yummy food great love tasty burger w...   \n",
              "3  eat chance going since kid go area love food w...   \n",
              "4  drink desert jarvis top good evening tewkesbur...   \n",
              "\n",
              "                                        topic_vector  \n",
              "0  [0.009604099033542457, 0.009604097040164497, 0...  \n",
              "1  [0.9332929748068605, 0.004764784389977953, 0.0...  \n",
              "2  [0.0068352206810172785, 0.00683521500500783, 0...  \n",
              "3  [0.011245047569970199, 0.011245043923995425, 0...  \n",
              "4  [0.005380025279412345, 0.005380015639471415, 0...  "
            ]
          },
          "execution_count": 3,
          "metadata": {},
          "output_type": "execute_result"
        }
      ],
      "source": [
        "user_lda_df['topic_vector'] = user_lda_df['topic_vector'].apply(ast.literal_eval)\n",
        "user_lda_df.head()\n"
      ]
    },
    {
      "cell_type": "code",
      "execution_count": 4,
      "metadata": {
        "colab": {
          "base_uri": "https://localhost:8080/",
          "height": 380
        },
        "id": "y4y9Gs4BOWIV",
        "outputId": "8365bb29-92a6-4292-e693-5f71b9fb1e6e"
      },
      "outputs": [
        {
          "data": {
            "text/html": [
              "<div>\n",
              "<style scoped>\n",
              "    .dataframe tbody tr th:only-of-type {\n",
              "        vertical-align: middle;\n",
              "    }\n",
              "\n",
              "    .dataframe tbody tr th {\n",
              "        vertical-align: top;\n",
              "    }\n",
              "\n",
              "    .dataframe thead th {\n",
              "        text-align: right;\n",
              "    }\n",
              "</style>\n",
              "<table border=\"1\" class=\"dataframe\">\n",
              "  <thead>\n",
              "    <tr style=\"text-align: right;\">\n",
              "      <th></th>\n",
              "      <th>user_id</th>\n",
              "      <th>name_y</th>\n",
              "      <th>rating</th>\n",
              "      <th>text</th>\n",
              "      <th>gmap_id</th>\n",
              "      <th>latitude</th>\n",
              "      <th>longitude</th>\n",
              "      <th>num_of_reviews</th>\n",
              "      <th>price</th>\n",
              "      <th>avg_rating</th>\n",
              "    </tr>\n",
              "  </thead>\n",
              "  <tbody>\n",
              "    <tr>\n",
              "      <th>0</th>\n",
              "      <td>1.182288e+20</td>\n",
              "      <td>Popeyes Louisiana Kitchen</td>\n",
              "      <td>3</td>\n",
              "      <td>Love the chicken sandwiches but the service ne...</td>\n",
              "      <td>0x89e4f921a38f0b11:0x879ccb1d12f010de</td>\n",
              "      <td>41.695425</td>\n",
              "      <td>-71.140807</td>\n",
              "      <td>526</td>\n",
              "      <td>$</td>\n",
              "      <td>3.6</td>\n",
              "    </tr>\n",
              "    <tr>\n",
              "      <th>1</th>\n",
              "      <td>1.090050e+20</td>\n",
              "      <td>Popeyes Louisiana Kitchen</td>\n",
              "      <td>3</td>\n",
              "      <td>The place was super smokey when we came in whi...</td>\n",
              "      <td>0x89e4f921a38f0b11:0x879ccb1d12f010de</td>\n",
              "      <td>41.695425</td>\n",
              "      <td>-71.140807</td>\n",
              "      <td>526</td>\n",
              "      <td>$</td>\n",
              "      <td>3.6</td>\n",
              "    </tr>\n",
              "    <tr>\n",
              "      <th>2</th>\n",
              "      <td>1.128417e+20</td>\n",
              "      <td>Popeyes Louisiana Kitchen</td>\n",
              "      <td>5</td>\n",
              "      <td>While I love all their chicken offerings, my w...</td>\n",
              "      <td>0x89e4f921a38f0b11:0x879ccb1d12f010de</td>\n",
              "      <td>41.695425</td>\n",
              "      <td>-71.140807</td>\n",
              "      <td>526</td>\n",
              "      <td>$</td>\n",
              "      <td>3.6</td>\n",
              "    </tr>\n",
              "    <tr>\n",
              "      <th>3</th>\n",
              "      <td>1.175200e+20</td>\n",
              "      <td>Popeyes Louisiana Kitchen</td>\n",
              "      <td>5</td>\n",
              "      <td>Always the best fried chicken around. Mash pot...</td>\n",
              "      <td>0x89e4f921a38f0b11:0x879ccb1d12f010de</td>\n",
              "      <td>41.695425</td>\n",
              "      <td>-71.140807</td>\n",
              "      <td>526</td>\n",
              "      <td>$</td>\n",
              "      <td>3.6</td>\n",
              "    </tr>\n",
              "    <tr>\n",
              "      <th>4</th>\n",
              "      <td>1.130399e+20</td>\n",
              "      <td>Popeyes Louisiana Kitchen</td>\n",
              "      <td>5</td>\n",
              "      <td>Awesome chicken crisp not greasy!</td>\n",
              "      <td>0x89e4f921a38f0b11:0x879ccb1d12f010de</td>\n",
              "      <td>41.695425</td>\n",
              "      <td>-71.140807</td>\n",
              "      <td>526</td>\n",
              "      <td>$</td>\n",
              "      <td>3.6</td>\n",
              "    </tr>\n",
              "  </tbody>\n",
              "</table>\n",
              "</div>"
            ],
            "text/plain": [
              "        user_id                     name_y  rating  \\\n",
              "0  1.182288e+20  Popeyes Louisiana Kitchen       3   \n",
              "1  1.090050e+20  Popeyes Louisiana Kitchen       3   \n",
              "2  1.128417e+20  Popeyes Louisiana Kitchen       5   \n",
              "3  1.175200e+20  Popeyes Louisiana Kitchen       5   \n",
              "4  1.130399e+20  Popeyes Louisiana Kitchen       5   \n",
              "\n",
              "                                                text  \\\n",
              "0  Love the chicken sandwiches but the service ne...   \n",
              "1  The place was super smokey when we came in whi...   \n",
              "2  While I love all their chicken offerings, my w...   \n",
              "3  Always the best fried chicken around. Mash pot...   \n",
              "4                  Awesome chicken crisp not greasy!   \n",
              "\n",
              "                                 gmap_id   latitude  longitude  \\\n",
              "0  0x89e4f921a38f0b11:0x879ccb1d12f010de  41.695425 -71.140807   \n",
              "1  0x89e4f921a38f0b11:0x879ccb1d12f010de  41.695425 -71.140807   \n",
              "2  0x89e4f921a38f0b11:0x879ccb1d12f010de  41.695425 -71.140807   \n",
              "3  0x89e4f921a38f0b11:0x879ccb1d12f010de  41.695425 -71.140807   \n",
              "4  0x89e4f921a38f0b11:0x879ccb1d12f010de  41.695425 -71.140807   \n",
              "\n",
              "   num_of_reviews price  avg_rating  \n",
              "0             526     $         3.6  \n",
              "1             526     $         3.6  \n",
              "2             526     $         3.6  \n",
              "3             526     $         3.6  \n",
              "4             526     $         3.6  "
            ]
          },
          "execution_count": 4,
          "metadata": {},
          "output_type": "execute_result"
        }
      ],
      "source": [
        "cleaned_df.head()\n"
      ]
    },
    {
      "cell_type": "code",
      "execution_count": 5,
      "metadata": {
        "colab": {
          "base_uri": "https://localhost:8080/",
          "height": 423
        },
        "id": "n6FIwa2LSuPq",
        "outputId": "0f2fe759-cc50-4392-b034-9df6faf208d9"
      },
      "outputs": [
        {
          "data": {
            "text/html": [
              "<div>\n",
              "<style scoped>\n",
              "    .dataframe tbody tr th:only-of-type {\n",
              "        vertical-align: middle;\n",
              "    }\n",
              "\n",
              "    .dataframe tbody tr th {\n",
              "        vertical-align: top;\n",
              "    }\n",
              "\n",
              "    .dataframe thead th {\n",
              "        text-align: right;\n",
              "    }\n",
              "</style>\n",
              "<table border=\"1\" class=\"dataframe\">\n",
              "  <thead>\n",
              "    <tr style=\"text-align: right;\">\n",
              "      <th></th>\n",
              "      <th>user_id</th>\n",
              "      <th>reviewed_restaurant_id</th>\n",
              "    </tr>\n",
              "  </thead>\n",
              "  <tbody>\n",
              "    <tr>\n",
              "      <th>0</th>\n",
              "      <td>1.000018e+20</td>\n",
              "      <td>[0x89e3f01c0c712697:0xd5104ac7a3f9aaa0, 0x89e3...</td>\n",
              "    </tr>\n",
              "    <tr>\n",
              "      <th>1</th>\n",
              "      <td>1.000020e+20</td>\n",
              "      <td>[0x89e4845fa138d201:0xcfa13f1f42e5c64b, 0x89e3...</td>\n",
              "    </tr>\n",
              "    <tr>\n",
              "      <th>2</th>\n",
              "      <td>1.000027e+20</td>\n",
              "      <td>[0x89e3a3cbc21e11bf:0x273ba9950150ec5d, 0x89e3...</td>\n",
              "    </tr>\n",
              "    <tr>\n",
              "      <th>3</th>\n",
              "      <td>1.000030e+20</td>\n",
              "      <td>[0x89e4067ca5807965:0xf7dc88f1bc8f32e6, 0x89e4...</td>\n",
              "    </tr>\n",
              "    <tr>\n",
              "      <th>4</th>\n",
              "      <td>1.000057e+20</td>\n",
              "      <td>[0x89e3a0bbc3ba2883:0xd6dc5a55202a9754, 0x89e3...</td>\n",
              "    </tr>\n",
              "    <tr>\n",
              "      <th>...</th>\n",
              "      <td>...</td>\n",
              "      <td>...</td>\n",
              "    </tr>\n",
              "    <tr>\n",
              "      <th>10938</th>\n",
              "      <td>1.184382e+20</td>\n",
              "      <td>[0x89e30ae7eccf2433:0x2cf9872bf7e5855c, 0x89e3...</td>\n",
              "    </tr>\n",
              "    <tr>\n",
              "      <th>10939</th>\n",
              "      <td>1.184401e+20</td>\n",
              "      <td>[0x89e370b8f913c249:0x1a3621091fb89d1e, 0x89e3...</td>\n",
              "    </tr>\n",
              "    <tr>\n",
              "      <th>10940</th>\n",
              "      <td>1.184433e+20</td>\n",
              "      <td>[0x89e37a0fbbb97dd9:0x65ac692307206f18, 0x89e3...</td>\n",
              "    </tr>\n",
              "    <tr>\n",
              "      <th>10941</th>\n",
              "      <td>1.184449e+20</td>\n",
              "      <td>[0x89e3712742d15c25:0x10eb19a5ab960482, 0x89e3...</td>\n",
              "    </tr>\n",
              "    <tr>\n",
              "      <th>10942</th>\n",
              "      <td>1.184461e+20</td>\n",
              "      <td>[0x89e48319344aa633:0xc6f9dd212694ae3b, 0x89e3...</td>\n",
              "    </tr>\n",
              "  </tbody>\n",
              "</table>\n",
              "<p>10943 rows × 2 columns</p>\n",
              "</div>"
            ],
            "text/plain": [
              "            user_id                             reviewed_restaurant_id\n",
              "0      1.000018e+20  [0x89e3f01c0c712697:0xd5104ac7a3f9aaa0, 0x89e3...\n",
              "1      1.000020e+20  [0x89e4845fa138d201:0xcfa13f1f42e5c64b, 0x89e3...\n",
              "2      1.000027e+20  [0x89e3a3cbc21e11bf:0x273ba9950150ec5d, 0x89e3...\n",
              "3      1.000030e+20  [0x89e4067ca5807965:0xf7dc88f1bc8f32e6, 0x89e4...\n",
              "4      1.000057e+20  [0x89e3a0bbc3ba2883:0xd6dc5a55202a9754, 0x89e3...\n",
              "...             ...                                                ...\n",
              "10938  1.184382e+20  [0x89e30ae7eccf2433:0x2cf9872bf7e5855c, 0x89e3...\n",
              "10939  1.184401e+20  [0x89e370b8f913c249:0x1a3621091fb89d1e, 0x89e3...\n",
              "10940  1.184433e+20  [0x89e37a0fbbb97dd9:0x65ac692307206f18, 0x89e3...\n",
              "10941  1.184449e+20  [0x89e3712742d15c25:0x10eb19a5ab960482, 0x89e3...\n",
              "10942  1.184461e+20  [0x89e48319344aa633:0xc6f9dd212694ae3b, 0x89e3...\n",
              "\n",
              "[10943 rows x 2 columns]"
            ]
          },
          "execution_count": 5,
          "metadata": {},
          "output_type": "execute_result"
        }
      ],
      "source": [
        "user_restaurants_df = cleaned_df.groupby('user_id')['gmap_id'].agg(list).reset_index()\n",
        "\n",
        "# Rename the column for clarity\n",
        "user_restaurants_df.rename(columns={'gmap_id': 'reviewed_restaurant_id'}, inplace=True)\n",
        "\n",
        "# Display the first few rows of the new DataFrame to verify\n",
        "user_restaurants_df"
      ]
    },
    {
      "cell_type": "code",
      "execution_count": 6,
      "metadata": {
        "colab": {
          "base_uri": "https://localhost:8080/"
        },
        "id": "A91bWhCwVTRG",
        "outputId": "b5d90a6f-c334-4e3e-e366-389889de1d46"
      },
      "outputs": [
        {
          "data": {
            "text/plain": [
              "[0.009604099033542457,\n",
              " 0.009604097040164497,\n",
              " 0.009604101060079497,\n",
              " 0.009604079099371443,\n",
              " 0.00960407311987992,\n",
              " 0.009604097631770385,\n",
              " 0.8655427607911149,\n",
              " 0.00960407451847766,\n",
              " 0.009604087103588337,\n",
              " 0.009604100357096638,\n",
              " 0.00960407394057977,\n",
              " 0.009604073185919012,\n",
              " 0.009604099964343048,\n",
              " 0.009604073227705023,\n",
              " 0.009604109926367448]"
            ]
          },
          "execution_count": 6,
          "metadata": {},
          "output_type": "execute_result"
        }
      ],
      "source": [
        "user_lda_df['topic_vector'][0]"
      ]
    },
    {
      "cell_type": "code",
      "execution_count": 11,
      "metadata": {
        "id": "QoTOhAH0TM05"
      },
      "outputs": [],
      "source": [
        "from sklearn.metrics.pairwise import cosine_similarity\n",
        "import numpy as np\n",
        "\n",
        "embeddings = np.array(user_lda_df['topic_vector'].tolist())\n",
        "similarity_matrix = cosine_similarity(embeddings)"
      ]
    },
    {
      "cell_type": "code",
      "execution_count": 15,
      "metadata": {
        "id": "NfaDS7mNXGIU"
      },
      "outputs": [],
      "source": [
        "def get_similar_user_ratings(similarity_matrix, user_df, user_restaurants_df, embeddings, cleaned_df, target_user_id, target_restaurant_id, top_n=10):\n",
        "    similarity_matrix = similarity_matrix\n",
        "    user_lda_df = user_df\n",
        "    user_restaurants_df = user_restaurants_df\n",
        "    embeddings = embeddings\n",
        "    cleaned_df = cleaned_df\n",
        "\n",
        "\n",
        "\n",
        "    # Get index of the target user\n",
        "    target_index = user_lda_df[user_lda_df['user_id'] == target_user_id].index[0]\n",
        "\n",
        "    # Get similarity scores for this user against all others\n",
        "    similarity_scores = similarity_matrix[target_index]\n",
        "\n",
        "    # Create a DataFrame from similarity scores\n",
        "    similar_users = pd.DataFrame({\n",
        "        'user_id': user_lda_df['user_id'],\n",
        "        'similarity_score': similarity_scores\n",
        "    })\n",
        "\n",
        "    # Filter out the target user\n",
        "    similar_users = similar_users[similar_users['user_id'] != target_user_id]\n",
        "\n",
        "    # Sort users by similarity score in descending order\n",
        "    similar_users = similar_users.sort_values(by='similarity_score', ascending=False)\n",
        "\n",
        "    # Filter users who have reviewed the target restaurant\n",
        "    reviewed_same_restaurant = similar_users[similar_users['user_id'].isin(user_restaurants_df[user_restaurants_df['reviewed_restaurant_id'].apply(lambda x: target_restaurant_id in x)]['user_id'])]\n",
        "\n",
        "    # Get the top N similar users who have reviewed the restaurant\n",
        "    top_similar_users = reviewed_same_restaurant.head(top_n)\n",
        "\n",
        "    # Fetch ratings for these users for the target restaurant\n",
        "    ratings = []\n",
        "    for _, row in top_similar_users.iterrows():\n",
        "        user_rating = cleaned_df[(cleaned_df['user_id'] == row['user_id']) & (cleaned_df['gmap_id'] == target_restaurant_id)]['rating'].iloc[0]\n",
        "        ratings.append((user_rating, row['similarity_score']))\n",
        "\n",
        "    # Calculate weighted average rating\n",
        "    if ratings:\n",
        "        weighted_rating = sum(r * w for r, w in ratings) / sum(w for _, w in ratings)\n",
        "        # Clamp the rating to be within 1 to 5\n",
        "        return max(min(weighted_rating, 5), 1)\n",
        "    else:\n",
        "        return None\n"
      ]
    },
    {
      "cell_type": "code",
      "execution_count": 16,
      "metadata": {},
      "outputs": [],
      "source": [
        "\n",
        "\n",
        "# Apply the function for each row in cleaned_df\n",
        "cleaned_df['similar_user_rating'] = cleaned_df.apply(lambda row: get_similar_user_ratings(similarity_matrix=similarity_matrix,user_df = user_lda_df, user_restaurants_df=user_restaurants_df, embeddings=embeddings, cleaned_df=cleaned_df, target_user_id= row['user_id'], target_restaurant_id= row['gmap_id']), axis=1)\n"
      ]
    },
    {
      "cell_type": "code",
      "execution_count": null,
      "metadata": {
        "id": "XIxblehfarYh"
      },
      "outputs": [],
      "source": [
        "cleaned_df"
      ]
    },
    {
      "cell_type": "code",
      "execution_count": null,
      "metadata": {
        "id": "eMoNIMLLatla"
      },
      "outputs": [],
      "source": [
        "cleaned_df.to_csv(\"data/filled_lda_df.csv\", index=False)"
      ]
    },
    {
      "cell_type": "markdown",
      "metadata": {},
      "source": [
        "## Predictive Modeling: XGBoost"
      ]
    },
    {
      "cell_type": "code",
      "execution_count": null,
      "metadata": {},
      "outputs": [],
      "source": [
        "df_cleaned = pd.read_csv('data/filled_lda_df')\n",
        "one_hot = pd.get_dummies(df_cleaned['price'])\n",
        "df_cleaned = pd.concat([df_cleaned, one_hot], axis=1)\n",
        "X_train, X_test, y_train, y_test = train_test_split(df_cleaned.drop(['rating','text','name_y','price','user_id','gmap_id'], axis=1), \n",
        "                                                    df_cleaned[['rating']], \n",
        "                                                    test_size=0.2, random_state = 42)\n",
        "X_train"
      ]
    },
    {
      "cell_type": "code",
      "execution_count": null,
      "metadata": {
        "id": "vHhZOZpFeJb1"
      },
      "outputs": [],
      "source": [
        "import xgboost as xgb\n",
        "model1 = xgb.XGBRegressor(objective='reg:squarederror')\n",
        "model1.fit(X_train, y_train)"
      ]
    },
    {
      "cell_type": "code",
      "execution_count": null,
      "metadata": {},
      "outputs": [],
      "source": [
        "pred1 = model1.predict(X_test)\n",
        "rmse = np.sqrt(np.mean((pred1 - y_test.to_numpy())**2))\n",
        "print(f'content-based rmse = {rmse}')"
      ]
    },
    {
      "cell_type": "code",
      "execution_count": null,
      "metadata": {},
      "outputs": [],
      "source": [
        "feature_importance = pd.DataFrame(model1.feature_importances_, index=X_train.columns, columns=['Importance'])\n",
        "feature_importance = feature_importance.sort_values(by='Importance', ascending=False)\n",
        "\n",
        "print(feature_importance)"
      ]
    }
  ],
  "metadata": {
    "colab": {
      "provenance": []
    },
    "kernelspec": {
      "display_name": "Python 3",
      "name": "python3"
    },
    "language_info": {
      "codemirror_mode": {
        "name": "ipython",
        "version": 3
      },
      "file_extension": ".py",
      "mimetype": "text/x-python",
      "name": "python",
      "nbconvert_exporter": "python",
      "pygments_lexer": "ipython3",
      "version": "3.9.18"
    }
  },
  "nbformat": 4,
  "nbformat_minor": 0
}
